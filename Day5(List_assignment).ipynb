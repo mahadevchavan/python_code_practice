{
 "cells": [
  {
   "cell_type": "markdown",
   "id": "b66ef1bd",
   "metadata": {},
   "source": [
    "## Q1. Reverse a given list in Python\n",
    "aList = [100, 200, 300, 400, 500]\n",
    "output:\n",
    "[500, 400, 300, 200, 100]"
   ]
  },
  {
   "cell_type": "code",
   "execution_count": 1,
   "id": "3e0eb264",
   "metadata": {},
   "outputs": [
    {
     "name": "stdout",
     "output_type": "stream",
     "text": [
      "[500, 400, 300, 200, 100]\n"
     ]
    }
   ],
   "source": [
    "aList = [100, 200, 300, 400, 500]\n",
    "bList = aList[-1::-1]\n",
    "print(bList)"
   ]
  },
  {
   "cell_type": "markdown",
   "id": "291efffd",
   "metadata": {},
   "source": [
    "## Q2. take a list 'l1' of even nos between 150 to 250. Print its length.\n",
    "Then create another list 'l2' using 'l1', containing only nos divisible by 4 from 'l1'."
   ]
  },
  {
   "cell_type": "code",
   "execution_count": 13,
   "id": "8d49387b",
   "metadata": {},
   "outputs": [
    {
     "name": "stdout",
     "output_type": "stream",
     "text": [
      "[150, 152, 154, 156, 158, 160, 162, 164, 166, 168, 170, 172, 174, 176, 178, 180, 182, 184, 186, 188, 190, 192, 194, 196, 198, 200, 202, 204, 206, 208, 210, 212, 214, 216, 218, 220, 222, 224, 226, 228, 230, 232, 234, 236, 238, 240, 242, 244, 246, 248, 250]\n",
      "\n",
      "length is 51\n"
     ]
    }
   ],
   "source": [
    "l1  = [ele for ele in range(150,251) if (ele % 2 == 0)]\n",
    "print(l1)\n",
    "print()\n",
    "print(\"length is\",len(l1))"
   ]
  },
  {
   "cell_type": "code",
   "execution_count": 14,
   "id": "50434736",
   "metadata": {},
   "outputs": [
    {
     "name": "stdout",
     "output_type": "stream",
     "text": [
      "[152, 156, 160, 164, 168, 172, 176, 180, 184, 188, 192, 196, 200, 204, 208, 212, 216, 220, 224, 228, 232, 236, 240, 244, 248]\n"
     ]
    }
   ],
   "source": [
    "l2 = [e for e in l1 if e % 4 == 0]\n",
    "print(l2)\n"
   ]
  },
  {
   "cell_type": "markdown",
   "id": "dbdc2768",
   "metadata": {},
   "source": [
    "## Q3. Given a Python list of numbers. Turn every item of a list into its square root\n",
    "aList = [1, 4, 9, 16, 25, 36, 49] \n",
    "output:\n",
    "[1, 2, 3, 4, 5, 6, 7]"
   ]
  },
  {
   "cell_type": "code",
   "execution_count": 19,
   "id": "1bc20c4b",
   "metadata": {},
   "outputs": [
    {
     "name": "stdout",
     "output_type": "stream",
     "text": [
      "[1, 2, 3, 4, 5, 6, 7]\n"
     ]
    }
   ],
   "source": [
    "cList = [1, 4, 9, 16, 25, 36, 49]\n",
    "dList = [int(d ** 0.5) for d in cList]\n",
    "print(dList)\n"
   ]
  },
  {
   "cell_type": "markdown",
   "id": "ba815351",
   "metadata": {},
   "source": [
    "## Q4. Print two lists in the following order\n",
    "list1 = [5, 6,7]\n",
    "list2 = [0, 1]\n",
    "output:\n",
    "50,51,60,61,70,71"
   ]
  },
  {
   "cell_type": "code",
   "execution_count": 66,
   "id": "b15cc0ec",
   "metadata": {},
   "outputs": [
    {
     "name": "stdout",
     "output_type": "stream",
     "text": [
      "50,51,60,61,70,71,"
     ]
    }
   ],
   "source": [
    "list1 = [5, 6,7] \n",
    "list2 = [0, 1]\n",
    "op = []\n",
    "for i in list1:\n",
    "    for jk in list2:\n",
    "        print(str(i)+str(jk), end=\",\")"
   ]
  },
  {
   "cell_type": "markdown",
   "id": "ab3dbe7c",
   "metadata": {},
   "source": [
    "## Q5. Given a two Python list. Iterate both lists simultaneously such that list1 should display item in original order and list2 in reverse order. It should work for any two lists.\n",
    "list1 = [10, 20, 30, 40]\n",
    "list2 = [100, 200, 300, 400]\n",
    "output:\n",
    "10 400\n",
    "20 300\n",
    "30 200\n",
    "40 100"
   ]
  },
  {
   "cell_type": "code",
   "execution_count": 23,
   "id": "27b12215",
   "metadata": {},
   "outputs": [
    {
     "name": "stdout",
     "output_type": "stream",
     "text": [
      "10 d\n",
      "20 s\n",
      "30 c\n",
      "40 a\n"
     ]
    }
   ],
   "source": [
    "po1 = [10,20,30,40]\n",
    "# po2 = [100,200,300,400]\n",
    "# po2 = (1,2,3,4)\n",
    "po2 = \"iacsd\"\n",
    "mn = po2[::-1]\n",
    "for i,j in zip(po1, mn):\n",
    "    print(i,j)"
   ]
  },
  {
   "cell_type": "code",
   "execution_count": null,
   "id": "351deaa1",
   "metadata": {},
   "outputs": [],
   "source": []
  },
  {
   "cell_type": "markdown",
   "id": "912ab073",
   "metadata": {},
   "source": [
    "## Q6. Remove empty strings from the list of strings\n",
    "list1 = [\"Ashish\", \"\", \"Atharva\", \"Amit\", \"\", \"Revati\"]\n",
    "output:\n",
    "[\"Ashish\", \"Atharva\", \"Amit\", \"Revati\"]"
   ]
  },
  {
   "cell_type": "code",
   "execution_count": 83,
   "id": "227221fd",
   "metadata": {},
   "outputs": [
    {
     "name": "stdout",
     "output_type": "stream",
     "text": [
      "['Ashish', 'Atharva', 'Amit', 'Revati']\n"
     ]
    }
   ],
   "source": [
    "li1 = [\"Ashish\", \"\", \"Atharva\", \"Amit\", \"\", \"Revati\"] \n",
    "for r in li1:\n",
    "    if(r == \"\"):\n",
    "        li1.remove(r)\n",
    "print(li1) "
   ]
  },
  {
   "cell_type": "markdown",
   "id": "f143b3e2",
   "metadata": {},
   "source": [
    "## Q7. Add item 7000 after 6000 in the following Python List\n",
    "list1 = [10, 20, [300, 400, [5000, 6000], 500], 30, 40]\n",
    "output:\n",
    "[10, 20, [300, 400, [5000, 6000, 7000], 500], 30, 40]"
   ]
  },
  {
   "cell_type": "code",
   "execution_count": 57,
   "id": "00912482",
   "metadata": {},
   "outputs": [],
   "source": [
    "lt1 = [10, 20, [300, 400, [5000, 6000], 500], 30, 40]\n",
    "lt1[2][2].append(7000)"
   ]
  },
  {
   "cell_type": "code",
   "execution_count": 58,
   "id": "9dd2447e",
   "metadata": {},
   "outputs": [
    {
     "name": "stdout",
     "output_type": "stream",
     "text": [
      "[10, 20, [300, 400, [5000, 6000, 7000], 500], 30, 40]\n"
     ]
    }
   ],
   "source": [
    "print(lt1)"
   ]
  },
  {
   "cell_type": "markdown",
   "id": "7e31ce8d",
   "metadata": {},
   "source": [
    "## Q8. Given a nested list extend it by adding the sub list [\"h\", \"i\", \"j\"] in such a way that it will look like the following list\n",
    "\n",
    "list1 = [\"a\", \"b\", [\"c\", [\"d\", \"e\", [\"f\", \"g\"], \"k\"], \"l\"], \"m\", \"n\"]\n",
    "Sub List to be added = [\"h\", \"i\", \"j\"]\n",
    "output:\n",
    "['a', 'b', ['c', ['d', 'e', ['f', 'g', 'h', 'i', 'j'], 'k'], 'l'], 'm', 'n'] \n",
    "\n",
    "solution\n",
    "list1 = [\"a\", \"b\", [\"c\", [\"d\", \"e\", [\"f\", \"g\"], \"k\"], \"l\"], \"m\", \"n\"]\n",
    "subList = [\"h\", \"i\", \"j\"]\n",
    "list1[2][1][2].extend(subList)\n",
    "print(list1)\n"
   ]
  },
  {
   "cell_type": "code",
   "execution_count": 85,
   "id": "48428633",
   "metadata": {},
   "outputs": [],
   "source": [
    "st1 = [\"a\", \"b\", [\"c\", [\"d\", \"e\", [\"f\", \"g\"], \"k\"], \"l\"], \"m\", \"n\"]\n",
    "slist = [\"h\", \"i\", \"j\"]"
   ]
  },
  {
   "cell_type": "code",
   "execution_count": 86,
   "id": "f3c80680",
   "metadata": {},
   "outputs": [],
   "source": [
    "st1[2][1][2].extend(slist)"
   ]
  },
  {
   "cell_type": "code",
   "execution_count": 87,
   "id": "921918d0",
   "metadata": {},
   "outputs": [
    {
     "name": "stdout",
     "output_type": "stream",
     "text": [
      "['a', 'b', ['c', ['d', 'e', ['f', 'g', 'h', 'i', 'j'], 'k'], 'l'], 'm', 'n']\n"
     ]
    }
   ],
   "source": [
    "print(st1)"
   ]
  },
  {
   "cell_type": "markdown",
   "id": "b03d07f9",
   "metadata": {},
   "source": [
    "## Q9. Given a Python list, find value 20 in the list, and if it is present, replace it with 200. Only update the first occurrence of a value\n",
    "list1 = [5, 10, 15, 20, 25, 50, 20]\n",
    "output:\n",
    "list1 = [5, 10, 15, 200, 25, 50, 20] "
   ]
  },
  {
   "cell_type": "code",
   "execution_count": 121,
   "id": "77a0db75",
   "metadata": {},
   "outputs": [
    {
     "name": "stdout",
     "output_type": "stream",
     "text": [
      "[5, 10, 15, 200, 25, 50, 20]\n"
     ]
    }
   ],
   "source": [
    "poi = [5, 10, 15, 20, 25, 50, 20]\n",
    "ind = poi.index(20)\n",
    "poi[ind] = 200\n",
    "print(poi)\n",
    "    \n",
    "#index function use\n",
    "    "
   ]
  },
  {
   "cell_type": "code",
   "execution_count": null,
   "id": "f1991f4b",
   "metadata": {},
   "outputs": [],
   "source": []
  },
  {
   "cell_type": "code",
   "execution_count": null,
   "id": "5439fe7a",
   "metadata": {},
   "outputs": [],
   "source": []
  },
  {
   "cell_type": "markdown",
   "id": "ea6de8ac",
   "metadata": {},
   "source": [
    "## Q10. Given a Python list, remove all occurrence of 20 from the list\n",
    "list1 = [5, 20, 15, 20, 25, 50, 20]\n",
    "output:\n",
    "[5, 15, 25, 50]"
   ]
  },
  {
   "cell_type": "code",
   "execution_count": 36,
   "id": "0c99fecc",
   "metadata": {},
   "outputs": [
    {
     "name": "stdout",
     "output_type": "stream",
     "text": [
      "[5, 15, 25, 50]\n"
     ]
    }
   ],
   "source": [
    "st1 = [5, 20, 15, 20, 25, 50, 20]\n",
    "for g in st1:\n",
    "    if (g == 20):\n",
    "        st1.remove(g)\n",
    "print(st1)"
   ]
  },
  {
   "cell_type": "code",
   "execution_count": 123,
   "id": "ca60e243",
   "metadata": {},
   "outputs": [
    {
     "name": "stdout",
     "output_type": "stream",
     "text": [
      "[5, 15, 25, 50]\n"
     ]
    }
   ],
   "source": [
    "#another way\n",
    "st6 = [5, 20, 15, 20, 25, 50, 20]\n",
    "for idx , g in enumerate(st6):\n",
    "    if (g == 20):\n",
    "        st6.pop(idx)\n",
    "print(st6)"
   ]
  },
  {
   "cell_type": "markdown",
   "id": "76d7c53e",
   "metadata": {},
   "source": [
    "## Q11. Take a number as input from user. \n",
    "Print maximum and minimum integer which can be generated using all the digits in the input number\n",
    "Ex. Input 3421   : o/p max: 4321, min 1234\n",
    "Input 7789    : o/p max: 9776   min 6779"
   ]
  },
  {
   "cell_type": "code",
   "execution_count": null,
   "id": "86c2583c",
   "metadata": {},
   "outputs": [],
   "source": []
  },
  {
   "cell_type": "code",
   "execution_count": 120,
   "id": "df98c9e3",
   "metadata": {},
   "outputs": [
    {
     "name": "stdout",
     "output_type": "stream",
     "text": [
      "enter a no8965\n",
      "8965\n",
      "Min number is : 5689\n",
      "MAximum is - 9865\n"
     ]
    }
   ],
   "source": [
    "num234 =input(\"enter a no\")\n",
    "print(num234)\n",
    "pouy = list(num234)\n",
    "pouy.sort()\n",
    "asdfg = \"\".join(pouy)\n",
    "print(\"Min number is :\",asdfg)\n",
    "maxi = asdfg[::-1]\n",
    "print(\"MAximum is -\",maxi)\n"
   ]
  },
  {
   "cell_type": "code",
   "execution_count": null,
   "id": "de41682e",
   "metadata": {},
   "outputs": [],
   "source": []
  },
  {
   "cell_type": "code",
   "execution_count": null,
   "id": "85785513",
   "metadata": {},
   "outputs": [],
   "source": []
  },
  {
   "cell_type": "markdown",
   "id": "28cc6c94",
   "metadata": {},
   "source": [
    "## Q12. Take integer from user and print all odd numbers which can be generated using any number of digits from given number\n",
    "Ex. \n",
    "Input: 3421  o/p: 1,3,13,43,23,31,41,21,421,241,341,431,423,243,143,413,1243,1423,4213,4123, 2413,2143, .. etc"
   ]
  },
  {
   "cell_type": "code",
   "execution_count": 45,
   "id": "ce6e332a",
   "metadata": {},
   "outputs": [],
   "source": [
    "import itertools"
   ]
  },
  {
   "cell_type": "code",
   "execution_count": 63,
   "id": "d7594b45",
   "metadata": {},
   "outputs": [
    {
     "name": "stdout",
     "output_type": "stream",
     "text": [
      "enter a no4528\n",
      "['4', '5', '2', '8']\n"
     ]
    }
   ],
   "source": [
    "asd = list(input(\"enter a no\"))\n",
    "print(asd)"
   ]
  },
  {
   "cell_type": "code",
   "execution_count": 66,
   "id": "e044b953",
   "metadata": {},
   "outputs": [
    {
     "name": "stdout",
     "output_type": "stream",
     "text": [
      "[('4',), ('5',), ('2',), ('8',)]\n"
     ]
    }
   ],
   "source": [
    "a = list(itertools.permutations(asd, 1))\n",
    "b \n",
    "print(a)"
   ]
  },
  {
   "cell_type": "code",
   "execution_count": null,
   "id": "809617c2",
   "metadata": {},
   "outputs": [],
   "source": []
  },
  {
   "cell_type": "code",
   "execution_count": null,
   "id": "42da054c",
   "metadata": {},
   "outputs": [],
   "source": []
  },
  {
   "cell_type": "markdown",
   "id": "b0d5758f",
   "metadata": {},
   "source": [
    "## Q1.\tTake a list of integers. Every time you can select the first element or last element.\n",
    "Always next number selected should be less than or equal to the currently selected number. If no number can be selected to fulfill all conditions then return False. If all elements are completed using the selection criteria then print True. You have to try all the combinations possible before conclusion.\n",
    "\n",
    "Ex. \n",
    "L=[1,2,3,4,5]\n",
    "\n",
    "We can select 1 or 5 at step 1\n",
    "Assume, First 5 is selected (last element)\n",
    "Then, [1,2,3,4]we can select 1 or 4,  we will select 4 because 4<5\n",
    "Then [1,2,3] we can select 1 or 3, so select 3 because 3<5\n",
    "\n",
    "Like this we can select 5,4,3,2,1 and all elements are selected so print True\n",
    "But if we select 1 then we cannot select further elements\n",
    "Because, after selecting 1 list will be [2,3,4,5] and first 2 and last 5 both are greater than 1\n",
    "\n",
    "So, when selecting first element use the right choice so that there can be possibility of selection of all elements\n",
    "\n",
    "L=[1,3,2]\n",
    "\n",
    "We can select 1 or 2 at step1\n",
    "Assume we select 1,\n",
    "Then [3,2] so we can select 3 or 2 but both are greater than 1\n",
    "So, there is no way we can completely select all elements\n",
    "\n",
    "Assume we select 2,\n",
    "Then [1,3], so we can select 1 or 3, we select 1 because 1<2,\n",
    "Then [3], so we can ONLY select 3 but 3 is greater than 1\n",
    "\n",
    "So print False, because in all options we cannot select all elements from the list"
   ]
  },
  {
   "cell_type": "code",
   "execution_count": 26,
   "id": "b6db02d9",
   "metadata": {},
   "outputs": [
    {
     "name": "stdout",
     "output_type": "stream",
     "text": [
      "False\n",
      "[1, 3]\n"
     ]
    }
   ],
   "source": [
    "# op1 = [6,34,39,8,91]\n",
    "op1 = [1,3,2]\n",
    "tmp1 = float('inf')\n",
    "while(True):\n",
    "    if(len(op1) != 0):\n",
    "        if(op1[0] >= op1[-1] and op1[0] <= tmp1):\n",
    "            tmp1 = op1[0]\n",
    "            op1.pop(0)\n",
    "#             op1.remove(tmp1)\n",
    "            continue\n",
    "        elif(op1[-1] >= op1[0] and op1[-1] <= tmp1):\n",
    "            tmp1 = op1[-1]\n",
    "            op1.pop(-1)\n",
    "#             p1.remove(tmp1)\n",
    "            continue\n",
    "        else:\n",
    "            print(\"False\")\n",
    "            print(op1)\n",
    "            break\n",
    "    else:\n",
    "        print(\"True\")\n",
    "        print(op1)\n",
    "        break"
   ]
  },
  {
   "cell_type": "code",
   "execution_count": 27,
   "id": "2e87c35a",
   "metadata": {},
   "outputs": [],
   "source": [
    "# op1 = [6,34,39,8,91]\n",
    "# # op1 = [1,2,3,4,5]\n",
    "# # op1 = [5,4,3,2,1] \n",
    "# # op1 = [1,3,2]\n",
    "# tmp1 = float('inf')\n",
    "# while(True):\n",
    "#     if(len(op1) != 0):\n",
    "#         if(op1[0] >= op1[-1] and op1[0] <= tmp1):\n",
    "#             tmp1 = op1[0]\n",
    "#             op1.remove(tmp1)\n",
    "#             continue\n",
    "#         elif(op1[-1] >= op1[0] and op1[-1] <= tmp1):\n",
    "#             tmp1 = op1[-1]\n",
    "#             op1.remove(tmp1)\n",
    "#             continue\n",
    "#         else:\n",
    "#             print(\"False\")\n",
    "#             print(op1)\n",
    "#             break\n",
    "#     else:\n",
    "#         print(\"True\")\n",
    "#         print(op1)\n",
    "#         break"
   ]
  },
  {
   "cell_type": "markdown",
   "id": "635684c7",
   "metadata": {},
   "source": [
    "## more optimised for Q12"
   ]
  },
  {
   "cell_type": "code",
   "execution_count": 44,
   "id": "6d860555",
   "metadata": {},
   "outputs": [
    {
     "name": "stdout",
     "output_type": "stream",
     "text": [
      "False\n"
     ]
    }
   ],
   "source": [
    "op1 = [6,34,39,8,91]\n",
    "# op1 = [1,2,3,4,5]\n",
    "tmp1 = float('inf')\n",
    "while(True):\n",
    "    if(len(op1) != 0):\n",
    "        a = max(op1[0],op1[-1])\n",
    "        if(a<tmp1):\n",
    "            op1.remove(a)\n",
    "            tmp1 = a\n",
    "        else:\n",
    "            print(\"False\")\n",
    "            break\n",
    "    else:\n",
    "        print(\"True\")\n",
    "        break"
   ]
  },
  {
   "cell_type": "code",
   "execution_count": null,
   "id": "4bb04396",
   "metadata": {},
   "outputs": [],
   "source": []
  }
 ],
 "metadata": {
  "kernelspec": {
   "display_name": "Python 3 (ipykernel)",
   "language": "python",
   "name": "python3"
  },
  "language_info": {
   "codemirror_mode": {
    "name": "ipython",
    "version": 3
   },
   "file_extension": ".py",
   "mimetype": "text/x-python",
   "name": "python",
   "nbconvert_exporter": "python",
   "pygments_lexer": "ipython3",
   "version": "3.11.4"
  }
 },
 "nbformat": 4,
 "nbformat_minor": 5
}
