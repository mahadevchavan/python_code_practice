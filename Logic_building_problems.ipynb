{
 "cells": [
  {
   "cell_type": "markdown",
   "id": "4860707b",
   "metadata": {},
   "source": [
    "## Q3.WAP to print the odd numbers from 1 to 99. Prints one number per line.\n"
   ]
  },
  {
   "cell_type": "code",
   "execution_count": 5,
   "id": "e2d1ee3b",
   "metadata": {},
   "outputs": [
    {
     "name": "stdout",
     "output_type": "stream",
     "text": [
      "1\n",
      "3\n",
      "5\n",
      "7\n",
      "9\n",
      "11\n",
      "13\n",
      "15\n",
      "17\n",
      "19\n",
      "21\n",
      "23\n",
      "25\n",
      "27\n",
      "29\n",
      "31\n",
      "33\n",
      "35\n",
      "37\n",
      "39\n",
      "41\n",
      "43\n",
      "45\n",
      "47\n",
      "49\n",
      "51\n",
      "53\n",
      "55\n",
      "57\n",
      "59\n",
      "61\n",
      "63\n",
      "65\n",
      "67\n",
      "69\n",
      "71\n",
      "73\n",
      "75\n",
      "77\n",
      "79\n",
      "81\n",
      "83\n",
      "85\n",
      "87\n",
      "89\n",
      "91\n",
      "93\n",
      "95\n",
      "97\n",
      "99\n"
     ]
    }
   ],
   "source": [
    "for i in range(1,100):\n",
    "    if(i%2!=0):\n",
    "        print(i)"
   ]
  },
  {
   "cell_type": "markdown",
   "id": "ca9b4aca",
   "metadata": {},
   "source": [
    "## Q4. WAP  to accept a number and check the number is even or not. Prints 1 if the number is even or 0 if the number is odd."
   ]
  },
  {
   "cell_type": "code",
   "execution_count": 9,
   "id": "c6e02e2c",
   "metadata": {},
   "outputs": [
    {
     "name": "stdout",
     "output_type": "stream",
     "text": [
      "enter a number5\n",
      "0\n"
     ]
    }
   ],
   "source": [
    "numb = int(input(\"enter a number\"))\n",
    "if(numb%2==0):\n",
    "    print(\"1\")\n",
    "else:\n",
    "    print(\"0\")"
   ]
  },
  {
   "cell_type": "markdown",
   "id": "5e9f2015",
   "metadata": {},
   "source": [
    "## Q5.WAP to print numbers between 1 to 100 which are divisible by 3, 5 and by both\n",
    "( total 3 list of numbers to be printed)"
   ]
  },
  {
   "cell_type": "code",
   "execution_count": 13,
   "id": "22985195",
   "metadata": {},
   "outputs": [
    {
     "name": "stdout",
     "output_type": "stream",
     "text": [
      "divisible by 3:= [3, 6, 9, 12, 15, 18, 21, 24, 27, 30, 33, 36, 39, 42, 45, 48, 51, 54, 57, 60, 63, 66, 69, 72, 75, 78, 81, 84, 87, 90, 93, 96, 99]\n",
      "divisible by 5:= [5, 10, 15, 20, 25, 30, 35, 40, 45, 50, 55, 60, 65, 70, 75, 80, 85, 90, 95]\n",
      "divisible by both:= [15, 30, 45, 60, 75, 90]\n"
     ]
    }
   ],
   "source": [
    "ls1 = []\n",
    "ls2 = []\n",
    "ls3 = []\n",
    "for idk in range(1,100):\n",
    "    if(idk%3==0):\n",
    "        ls1.append(idk)\n",
    "    if(idk%5==0):\n",
    "        ls2.append(idk)\n",
    "    if(idk%5==0 and idk%3==0):\n",
    "        ls3.append(idk)\n",
    "print(\"divisible by 3:=\",ls1)\n",
    "print(\"divisible by 5:=\",ls2)\n",
    "print(\"divisible by both:=\",ls3)"
   ]
  },
  {
   "cell_type": "markdown",
   "id": "594a84fa",
   "metadata": {},
   "source": [
    "## Q6.WAP that accepts three integers from the user and return true if two or more of them (integers ) have the same rightmost digit. The integers are non-negative"
   ]
  },
  {
   "cell_type": "code",
   "execution_count": 4,
   "id": "029b47fd",
   "metadata": {},
   "outputs": [
    {
     "name": "stdout",
     "output_type": "stream",
     "text": [
      "f\n"
     ]
    }
   ],
   "source": [
    "num1 = 100\n",
    "num2 = 141\n",
    "num3 = 121\n",
    "\n",
    "\n",
    "if(num1%10 == num2 % 10 == num3 % 10):\n",
    "    print(\"True\")\n",
    "else:\n",
    "    print(\"f\")"
   ]
  },
  {
   "cell_type": "markdown",
   "id": "416c3b2f",
   "metadata": {},
   "source": [
    "## Q7 WAP to convert input number of seconds to HH:MM:SS."
   ]
  },
  {
   "cell_type": "code",
   "execution_count": 49,
   "id": "b2aeb798",
   "metadata": {},
   "outputs": [
    {
     "name": "stdout",
     "output_type": "stream",
     "text": [
      "53 years : 3 months : 6 days : 14 hours : 1 minuits : 5 seconds\n"
     ]
    }
   ],
   "source": [
    "num = 1656856865\n",
    "mm,ss = divmod(num,60)\n",
    "if mm>60:\n",
    "    hh,mm = divmod(mm,60)\n",
    "else:\n",
    "    hh=0\n",
    "if hh>24:\n",
    "    dd,hh=divmod(hh,24)\n",
    "else:\n",
    "    dd=0\n",
    "if dd>30:\n",
    "    month,dd = divmod(dd,30)\n",
    "else:\n",
    "    month = 0\n",
    "if month>12:\n",
    "    yy, month = divmod(month,12)\n",
    "else:\n",
    "    yy = 0\n",
    "print(yy,\"years :\",month,\"months :\",dd,\"days :\",hh,\"hours :\",mm,\"minuits :\",ss,\"seconds\")"
   ]
  },
  {
   "cell_type": "markdown",
   "id": "cef6d4e5",
   "metadata": {},
   "source": [
    "## 8.WAP to print all leap years between 2000 to 2100. Apply all conditions of checking leap year ( (divisible by 4 and not divisible by 100) OR (divisible by 400))"
   ]
  },
  {
   "cell_type": "code",
   "execution_count": null,
   "id": "0948fb7b",
   "metadata": {},
   "outputs": [
    {
     "name": "stdout",
     "output_type": "stream",
     "text": [
      "enter a year between 2000- 2100565\n"
     ]
    },
    {
     "name": "stderr",
     "output_type": "stream",
     "text": [
      "IOPub data rate exceeded.\n",
      "The notebook server will temporarily stop sending output\n",
      "to the client in order to avoid crashing it.\n",
      "To change this limit, set the config variable\n",
      "`--NotebookApp.iopub_data_rate_limit`.\n",
      "\n",
      "Current values:\n",
      "NotebookApp.iopub_data_rate_limit=1000000.0 (bytes/sec)\n",
      "NotebookApp.rate_limit_window=3.0 (secs)\n",
      "\n"
     ]
    }
   ],
   "source": [
    "#range bound leap year check code\n",
    "year = int(input(\"enter a year between 2000- 2100\"))\n",
    "if not(2100 < year < 2000):\n",
    "    print(\"enter number between 2000 and 2100\")\n",
    "else:\n",
    "    if((year%4==0) and ((year % 100 == 0) and (year % 400 == 0))):\n",
    "        print(True)\n",
    "    else:\n",
    "        print(False)\n",
    "    "
   ]
  },
  {
   "cell_type": "code",
   "execution_count": 16,
   "id": "9d4edb3d",
   "metadata": {},
   "outputs": [
    {
     "name": "stdout",
     "output_type": "stream",
     "text": [
      "enter a year between 2000- 21001565\n",
      "False\n"
     ]
    }
   ],
   "source": [
    "#normal leap year code using function \n",
    "year = int(input(\"enter a year between 2000- 2100\"))\n",
    "def leap_year(year):    \n",
    "    if((year%4==0) and ((year % 100 == 0) and (year % 400 == 0))):\n",
    "        return True\n",
    "    else:\n",
    "        return False\n",
    "print(leap_year(year))"
   ]
  },
  {
   "cell_type": "markdown",
   "id": "41c9c86d",
   "metadata": {},
   "source": [
    "## 9.WAP to print calender for a month. Take how many days are there in month and starting day of the month as input\n",
    "    Ex. input no of days : 30  starting day of month : Thursday\n",
    "    Ouput :: Day wise Calender  ( just like June 2022 month)"
   ]
  },
  {
   "cell_type": "code",
   "execution_count": 72,
   "id": "1405ec34",
   "metadata": {},
   "outputs": [
    {
     "name": "stdout",
     "output_type": "stream",
     "text": [
      "Enter number of days: 31\n",
      "Enter the starting day of the week (e.g. Monday, Tuesday, etc.): Monday\n",
      "Monday Tuesday Wednesday Thursday Friday Saturday Sunday\n",
      "1\n",
      "2 3 4 5 6 7 8\n",
      "9 10 11 12 13 14 15\n",
      "16 17 18 19 20 21 22\n",
      "23 24 25 26 27 28 29\n",
      "30 31 \n"
     ]
    }
   ],
   "source": [
    "# n = int(input(\"Enter number of days: \"))\n",
    "# s = input(\"Enter the starting day of the week (e.g. Monday, Tuesday, etc.): \")\n",
    "\n",
    "# # Create list of weekdays starting from the given starting day\n",
    "# weekdays = [\"Monday\", \"Tuesday\", \"Wednesday\", \"Thursday\", \"Friday\", \"Saturday\", \"Sunday\"]\n",
    "# start_day = weekdays.index(s.capitalize())\n",
    "# days = weekdays[start_day:] + weekdays[:start_day]\n",
    "\n",
    "# # Print calendar\n",
    "# print(\" \".join(days))\n",
    "# for i in range(1, n + 1):\n",
    "#     if (i + start_day - 1) % 7 == 0:\n",
    "#         print(i)\n",
    "#     else:\n",
    "#         print(i, end=\" \")\n",
    "# print()"
   ]
  },
  {
   "cell_type": "markdown",
   "id": "d94e632c",
   "metadata": {},
   "source": [
    "## Factorial of a number using loop\n",
    "    n! = n * (n-1) * (n-2) * ... *2*1"
   ]
  },
  {
   "cell_type": "code",
   "execution_count": 24,
   "id": "640e6145",
   "metadata": {},
   "outputs": [
    {
     "name": "stdout",
     "output_type": "stream",
     "text": [
      "enter a number for factorial02\n",
      "2\n"
     ]
    }
   ],
   "source": [
    "fact = int(input(\"enter a number for factorial\"))\n",
    "fac = 1\n",
    "if fact<1:\n",
    "    print(\"enter a number >=1\")\n",
    "else:\n",
    "    for i in range(1,fact+1):\n",
    "        fac = fac*i\n",
    "    print(fac)"
   ]
  },
  {
   "cell_type": "markdown",
   "id": "dae25055",
   "metadata": {},
   "source": [
    "## Fibonacci Series.\n",
    "    1,1,2,3,5,8,13,21,34,...\n"
   ]
  },
  {
   "cell_type": "code",
   "execution_count": 20,
   "id": "944c394b",
   "metadata": {},
   "outputs": [
    {
     "name": "stdout",
     "output_type": "stream",
     "text": [
      "how many next numbers of fibonacci series u want12\n",
      "1\n",
      "2\n",
      "3\n",
      "5\n",
      "8\n",
      "13\n",
      "21\n",
      "34\n",
      "55\n",
      "89\n",
      "144\n",
      "233\n"
     ]
    }
   ],
   "source": [
    "num1 = 0\n",
    "num2 = 1\n",
    "n = int(input(\"how many next numbers of fibonacci series u want\"))\n",
    "\n",
    "for i in range(n):\n",
    "    next_num = num2 + num1\n",
    "    num1, num2 = num2,next_num\n",
    "    print(next_num)\n",
    "\n",
    "#++++++++++++if you want the exact number from the series+++++++++++\n",
    "# for i in range(n):\n",
    "#     next_num = num2 + num1\n",
    "#     num1, num2 = num2,next_num\n",
    "#     if i==(n-2):    \n",
    "#         print(next_num)\n"
   ]
  },
  {
   "cell_type": "markdown",
   "id": "3de6fadb",
   "metadata": {},
   "source": [
    "## Armstrong Number.\n",
    "    It is a number with 'n' digits. Here (sum of every digit ^ n) equal to ( number itself)\n",
    "\n",
    "    1) 1^3 5^3 3^3=153 ( here number of digits(n) is 3)\n",
    "    2) 1^1 = 1 ( here number of digits is 1)\n",
    "    3) 1634 = 1^4 + 6^4 + 3^4 + 4^4 ( here number of digits is 4)"
   ]
  },
  {
   "cell_type": "code",
   "execution_count": 11,
   "id": "9095fb91",
   "metadata": {},
   "outputs": [
    {
     "name": "stdout",
     "output_type": "stream",
     "text": [
      "enter a number to check if its an amrmstrong or not: 152\n",
      "its not an armstrong number\n"
     ]
    }
   ],
   "source": [
    "a = input(\"enter a number to check if its an amrmstrong or not: \")\n",
    "sum = 0\n",
    "for i in a:\n",
    "#     print(i)\n",
    "    sum =  sum + (int(i)**len(a))\n",
    "    \n",
    "if int(a)== sum:\n",
    "    print(\"its an armstrong number\")\n",
    "else:\n",
    "    print(\"its not an armstrong number\")\n",
    "    \n",
    "    \n",
    "#++++++++++++++++++++++++++++++++++++++++++++++++\n",
    "#using a function as well\n",
    "# def armstrong(n):\n",
    "#     sum = 0\n",
    "#     for i in a:\n",
    "#     #     print(i)\n",
    "#         sum =  sum + (int(i)**len(a))\n",
    "\n",
    "#     if int(a)== sum:\n",
    "#         return print(\"its an armstrong number\")\n",
    "#     else:\n",
    "#         return print(\"its not an armstrong number\")\n",
    "        \n",
    "# armstrong(a)"
   ]
  },
  {
   "cell_type": "markdown",
   "id": "ca9722c0",
   "metadata": {},
   "source": [
    "## Perfect sqaure WAP to check if a number is perfect square ot not."
   ]
  },
  {
   "cell_type": "code",
   "execution_count": null,
   "id": "714146ff",
   "metadata": {},
   "outputs": [],
   "source": []
  },
  {
   "cell_type": "markdown",
   "id": "c519a759",
   "metadata": {},
   "source": [
    "## 3. Write a Python program to count the elements in a list until an element is a tuple.\n",
    "Sample input : list = [10, 20, 30, (40,50), 60]\n",
    "Sample output = 3"
   ]
  },
  {
   "cell_type": "code",
   "execution_count": 36,
   "id": "be6d2386",
   "metadata": {},
   "outputs": [
    {
     "name": "stdout",
     "output_type": "stream",
     "text": [
      "4\n"
     ]
    }
   ],
   "source": [
    "list1 = [10, 20, 30, 60, (40,50)]\n",
    "cnt = 0\n",
    "for i in list1:\n",
    "    if type(i) == tuple:\n",
    "        break\n",
    "    else:\n",
    "        cnt +=1\n",
    "print(cnt)\n"
   ]
  },
  {
   "cell_type": "markdown",
   "id": "0f5f15c7",
   "metadata": {},
   "source": [
    "## Q. 3. Define a function overlapping () that takes two lists and returns True if they have at least one\n",
    "member in common, False otherwise."
   ]
  },
  {
   "cell_type": "code",
   "execution_count": 71,
   "id": "5ee3da00",
   "metadata": {},
   "outputs": [
    {
     "name": "stdout",
     "output_type": "stream",
     "text": [
      "no match found\n",
      "no match found\n",
      "match found 4  is present in second list\n"
     ]
    }
   ],
   "source": [
    "ls1 = [1,2,4,6,8,4]\n",
    "ls2 = [7,5451,8,654,165,4,165]\n",
    "for i in ls1:\n",
    "#     print(i)\n",
    "    if i in ls2:\n",
    "        print(\"match found\",i,\" is present in second list\") \n",
    "        break\n",
    "    else:\n",
    "        print(\"no match found\")\n",
    "        continue`\n",
    "        \n"
   ]
  },
  {
   "cell_type": "code",
   "execution_count": null,
   "id": "bd1dba67",
   "metadata": {},
   "outputs": [],
   "source": [
    "# ls1 = [1,2,4,6,8]\n",
    "# ls2 = [7,5451,8,654,165,4,165]\n",
    "# for i in ls1:\n",
    "# #     print(i)\n",
    "#     for j in ls2:\n",
    "#         if i==j:\n",
    "#             print(\"match found\",i,\" is present in second list\",ls2) \n",
    "#             break\n",
    "#         else:\n",
    "# #             print(\"no match found\")\n",
    "#             continue\n",
    "        "
   ]
  },
  {
   "cell_type": "code",
   "execution_count": null,
   "id": "e59de5d3",
   "metadata": {},
   "outputs": [],
   "source": []
  },
  {
   "cell_type": "markdown",
   "id": "c7bafd81",
   "metadata": {},
   "source": [
    "## Q. 2. Define a procedure histogram() that takes a list of integers and prints a histogram to the screen.\n"
   ]
  },
  {
   "cell_type": "code",
   "execution_count": 32,
   "id": "24600bd7",
   "metadata": {},
   "outputs": [
    {
     "name": "stdout",
     "output_type": "stream",
     "text": [
      "*\n",
      "*****\n",
      "********\n",
      "******\n"
     ]
    }
   ],
   "source": [
    "# For example, histogram([4, 9, 7]) should print the following:\n",
    "# ****\n",
    "# *********\n",
    "# *******\n",
    "ls = [1,5,8,6]\n",
    "def histogram(ls):\n",
    "    for i in ls:\n",
    "        print(i*\"*\")\n",
    "histogram(ls)\n",
    "\n"
   ]
  },
  {
   "cell_type": "markdown",
   "id": "db9eff72",
   "metadata": {},
   "source": [
    "## Find duplicate characters in a string."
   ]
  },
  {
   "cell_type": "code",
   "execution_count": 35,
   "id": "c5f9ac29",
   "metadata": {},
   "outputs": [
    {
     "name": "stdout",
     "output_type": "stream",
     "text": [
      "duplicate characters are  {'a', 'v'}\n"
     ]
    }
   ],
   "source": [
    "s = \"hivanjskvlfa\"\n",
    "repeated = set()\n",
    "for i in s:\n",
    "    if s.count(i) >=2:\n",
    "#         print(i)\n",
    "        repeated.add(i)\n",
    "print(\"duplicate characters are \",repeated)\n",
    "\n",
    "#++++++++++++++++++++="
   ]
  },
  {
   "cell_type": "markdown",
   "id": "20cad1a0",
   "metadata": {},
   "source": [
    "## Check Palindrome string."
   ]
  },
  {
   "cell_type": "code",
   "execution_count": 34,
   "id": "f4e6b01a",
   "metadata": {},
   "outputs": [
    {
     "name": "stdout",
     "output_type": "stream",
     "text": [
      "not a pallindrome string\n"
     ]
    }
   ],
   "source": [
    "s1 = \"abfas\"\n",
    "if s1 == s1[::-1]:\n",
    "    print(\"pallindrome\")\n",
    "else:\n",
    "    print(\"not a pallindrome string\")\n"
   ]
  },
  {
   "cell_type": "markdown",
   "id": "61746115",
   "metadata": {},
   "source": [
    "## Check Palindrome number"
   ]
  },
  {
   "cell_type": "code",
   "execution_count": 48,
   "id": "72113d11",
   "metadata": {},
   "outputs": [
    {
     "data": {
      "text/plain": [
       "['121']"
      ]
     },
     "execution_count": 48,
     "metadata": {},
     "output_type": "execute_result"
    }
   ],
   "source": [
    "num1 = 121\n",
    "\n",
    "if str(num1)==str(num1)[::-1]:\n",
    "    print(\"its a pallindrome number\")\n",
    "else:\n",
    "    print(\"its not a pallindrome\n"
   ]
  },
  {
   "cell_type": "markdown",
   "id": "62944c9f",
   "metadata": {},
   "source": [
    "## Reverse a string.\n"
   ]
  },
  {
   "cell_type": "code",
   "execution_count": null,
   "id": "9253acdb",
   "metadata": {},
   "outputs": [],
   "source": []
  },
  {
   "cell_type": "markdown",
   "id": "8d696dde",
   "metadata": {},
   "source": [
    "## Reverse a number."
   ]
  },
  {
   "cell_type": "code",
   "execution_count": null,
   "id": "2eb592b6",
   "metadata": {},
   "outputs": [],
   "source": []
  },
  {
   "cell_type": "markdown",
   "id": "aa36882d",
   "metadata": {},
   "source": [
    "## Permutation and Combination Program"
   ]
  },
  {
   "cell_type": "code",
   "execution_count": null,
   "id": "2482854b",
   "metadata": {},
   "outputs": [],
   "source": []
  },
  {
   "cell_type": "markdown",
   "id": "d0077d8e",
   "metadata": {},
   "source": [
    "## Q22. Take a number from user. Print highest number possible using all digits once from given number "
   ]
  },
  {
   "cell_type": "code",
   "execution_count": 26,
   "id": "8c77abfa",
   "metadata": {},
   "outputs": [
    {
     "name": "stdout",
     "output_type": "stream",
     "text": [
      "enter a number653446896\n",
      "maximum  986665443\n"
     ]
    }
   ],
   "source": [
    "n = list(input(\"enter a number\"))\n",
    "n.sort()\n",
    "# print(n)\n",
    "a = \"\".join(n)\n",
    "maximum = a[::-1]\n",
    "print(\"maximum number possible is\",maximum)"
   ]
  },
  {
   "cell_type": "markdown",
   "id": "dbffb12e",
   "metadata": {},
   "source": [
    "## Q24. print table of any given number \n",
    "    2,4,6,8,10,12,14,16,18,20"
   ]
  },
  {
   "cell_type": "code",
   "execution_count": 15,
   "id": "a4f81ac7",
   "metadata": {},
   "outputs": [
    {
     "name": "stdout",
     "output_type": "stream",
     "text": [
      "enter any number89\n",
      "89 * 1 = 89\n",
      "89 * 2 = 178\n",
      "89 * 3 = 267\n",
      "89 * 4 = 356\n",
      "89 * 5 = 445\n",
      "89 * 6 = 534\n",
      "89 * 7 = 623\n",
      "89 * 8 = 712\n",
      "89 * 9 = 801\n",
      "89 * 10 = 890\n"
     ]
    }
   ],
   "source": [
    "n = int(input(\"enter any number\"))\n",
    "for i in range(1,11):\n",
    "    print(n,\"*\",i,\"=\",i*n)"
   ]
  },
  {
   "cell_type": "markdown",
   "id": "78f21ab1",
   "metadata": {},
   "source": [
    "## WAP for doing bubble sort of given numbers"
   ]
  },
  {
   "cell_type": "code",
   "execution_count": 90,
   "id": "c44e46c9",
   "metadata": {},
   "outputs": [
    {
     "name": "stdout",
     "output_type": "stream",
     "text": [
      "[7, 65, 4, 3, 1, 23, 45, 77]\n",
      "[7, 4, 65, 3, 1, 23, 45, 77]\n",
      "[7, 4, 3, 65, 1, 23, 45, 77]\n",
      "[7, 4, 3, 1, 65, 23, 45, 77]\n",
      "[7, 4, 3, 1, 23, 65, 45, 77]\n",
      "[7, 4, 3, 1, 23, 45, 65, 77]\n",
      "[4, 7, 3, 1, 23, 45, 65, 77]\n",
      "[4, 3, 7, 1, 23, 45, 65, 77]\n",
      "[4, 3, 1, 7, 23, 45, 65, 77]\n",
      "[3, 4, 1, 7, 23, 45, 65, 77]\n",
      "[3, 1, 4, 7, 23, 45, 65, 77]\n",
      "[1, 3, 4, 7, 23, 45, 65, 77]\n",
      "[1, 3, 4, 7, 23, 45, 65, 77]\n"
     ]
    }
   ],
   "source": [
    "ls3 = [65,7,4,3,1,23,45,77]\n",
    "for i in range(len(ls3)-1):\n",
    "    for j in range(len(ls3)-i-1):\n",
    "#         print(i,j)\n",
    "        if ls3[j] > ls3[j+1]:\n",
    "            ls3[j],ls3[j+1]=ls3[j+1],ls3[j]\n",
    "            print(ls3)\n",
    "#         else:\n",
    "# #             break\n",
    "            continue\n",
    "#     if i>(ls3.index(i)+1):\n",
    "#         ls3[ls3.index(i)]=(ls3.index(i)+1)\n",
    "#     print(i)\n",
    "print(ls3)"
   ]
  },
  {
   "cell_type": "markdown",
   "id": "0c4e10cb",
   "metadata": {},
   "source": [
    "## Write a  program to swap two variables\n",
    "a. by using a temporary variable\n",
    "b. using arithmatic operation and not using a variable\n",
    "c. without using variable ( using python unpacking syntax)"
   ]
  },
  {
   "cell_type": "code",
   "execution_count": 94,
   "id": "5ad64995",
   "metadata": {},
   "outputs": [
    {
     "name": "stdout",
     "output_type": "stream",
     "text": [
      "30 23\n",
      "23 30\n",
      "+++++++++++++++++++++++++++++++++\n",
      "30 23\n",
      "after using unpacking\n",
      "23 30\n"
     ]
    }
   ],
   "source": [
    "a = 30\n",
    "b = 23\n",
    "print(a,b)\n",
    "c= a\n",
    "a = b\n",
    "b = c\n",
    "print(a,b)\n",
    "print(\"+++++++++++++++++++++++++++++++++\")\n",
    "a = a+b\n",
    "b = a-b\n",
    "a = a-b\n",
    "print(a,b)\n",
    "print(\"after using unpacking\")\n",
    "a,b = b,a\n",
    "print(a,b)"
   ]
  },
  {
   "cell_type": "code",
   "execution_count": null,
   "id": "c926a22f",
   "metadata": {},
   "outputs": [],
   "source": []
  },
  {
   "cell_type": "code",
   "execution_count": null,
   "id": "0c3779c6",
   "metadata": {},
   "outputs": [],
   "source": []
  },
  {
   "cell_type": "code",
   "execution_count": null,
   "id": "fcdb0633",
   "metadata": {},
   "outputs": [],
   "source": []
  },
  {
   "cell_type": "code",
   "execution_count": null,
   "id": "f7cb4aad",
   "metadata": {},
   "outputs": [],
   "source": []
  },
  {
   "cell_type": "code",
   "execution_count": null,
   "id": "c633cef8",
   "metadata": {},
   "outputs": [],
   "source": []
  },
  {
   "cell_type": "code",
   "execution_count": null,
   "id": "a684f8e6",
   "metadata": {},
   "outputs": [],
   "source": []
  },
  {
   "cell_type": "code",
   "execution_count": null,
   "id": "8f522756",
   "metadata": {},
   "outputs": [],
   "source": []
  },
  {
   "cell_type": "code",
   "execution_count": null,
   "id": "b451476a",
   "metadata": {},
   "outputs": [],
   "source": []
  },
  {
   "cell_type": "code",
   "execution_count": null,
   "id": "68d15260",
   "metadata": {},
   "outputs": [],
   "source": []
  },
  {
   "cell_type": "code",
   "execution_count": null,
   "id": "152b1dc3",
   "metadata": {},
   "outputs": [],
   "source": []
  },
  {
   "cell_type": "code",
   "execution_count": null,
   "id": "5c9849e5",
   "metadata": {},
   "outputs": [],
   "source": []
  },
  {
   "cell_type": "code",
   "execution_count": null,
   "id": "5c3b6e4a",
   "metadata": {},
   "outputs": [],
   "source": []
  },
  {
   "cell_type": "code",
   "execution_count": null,
   "id": "667b003f",
   "metadata": {},
   "outputs": [],
   "source": []
  },
  {
   "cell_type": "code",
   "execution_count": null,
   "id": "d5239c41",
   "metadata": {},
   "outputs": [],
   "source": []
  },
  {
   "cell_type": "code",
   "execution_count": null,
   "id": "7ade18b4",
   "metadata": {},
   "outputs": [],
   "source": []
  },
  {
   "cell_type": "code",
   "execution_count": null,
   "id": "6c3e1133",
   "metadata": {},
   "outputs": [],
   "source": []
  },
  {
   "cell_type": "code",
   "execution_count": null,
   "id": "f4df311e",
   "metadata": {},
   "outputs": [],
   "source": []
  },
  {
   "cell_type": "code",
   "execution_count": null,
   "id": "90ec6661",
   "metadata": {},
   "outputs": [],
   "source": []
  },
  {
   "cell_type": "code",
   "execution_count": null,
   "id": "4581056a",
   "metadata": {},
   "outputs": [],
   "source": []
  },
  {
   "cell_type": "code",
   "execution_count": null,
   "id": "862f3322",
   "metadata": {},
   "outputs": [],
   "source": []
  },
  {
   "cell_type": "code",
   "execution_count": null,
   "id": "67bd6e31",
   "metadata": {},
   "outputs": [],
   "source": []
  },
  {
   "cell_type": "code",
   "execution_count": null,
   "id": "f6b40021",
   "metadata": {},
   "outputs": [],
   "source": []
  },
  {
   "cell_type": "code",
   "execution_count": null,
   "id": "2bc02c7e",
   "metadata": {},
   "outputs": [],
   "source": []
  },
  {
   "cell_type": "code",
   "execution_count": null,
   "id": "b159c645",
   "metadata": {},
   "outputs": [],
   "source": []
  },
  {
   "cell_type": "code",
   "execution_count": null,
   "id": "f17a0031",
   "metadata": {},
   "outputs": [],
   "source": []
  },
  {
   "cell_type": "code",
   "execution_count": null,
   "id": "33e4ec2d",
   "metadata": {},
   "outputs": [],
   "source": []
  },
  {
   "cell_type": "code",
   "execution_count": null,
   "id": "70fa27b2",
   "metadata": {},
   "outputs": [],
   "source": []
  },
  {
   "cell_type": "code",
   "execution_count": null,
   "id": "bfc62b40",
   "metadata": {},
   "outputs": [],
   "source": []
  },
  {
   "cell_type": "code",
   "execution_count": null,
   "id": "d7114fc1",
   "metadata": {},
   "outputs": [],
   "source": []
  },
  {
   "cell_type": "code",
   "execution_count": null,
   "id": "32f308bc",
   "metadata": {},
   "outputs": [],
   "source": []
  },
  {
   "cell_type": "code",
   "execution_count": null,
   "id": "13106cd8",
   "metadata": {},
   "outputs": [],
   "source": []
  },
  {
   "cell_type": "code",
   "execution_count": null,
   "id": "ede29984",
   "metadata": {},
   "outputs": [],
   "source": []
  },
  {
   "cell_type": "code",
   "execution_count": null,
   "id": "e52df0d5",
   "metadata": {},
   "outputs": [],
   "source": []
  },
  {
   "cell_type": "code",
   "execution_count": null,
   "id": "cfc75fbe",
   "metadata": {},
   "outputs": [],
   "source": []
  },
  {
   "cell_type": "code",
   "execution_count": null,
   "id": "0fdf8191",
   "metadata": {},
   "outputs": [],
   "source": []
  },
  {
   "cell_type": "code",
   "execution_count": null,
   "id": "a8c2c75d",
   "metadata": {},
   "outputs": [],
   "source": []
  },
  {
   "cell_type": "code",
   "execution_count": null,
   "id": "b212ba79",
   "metadata": {},
   "outputs": [],
   "source": []
  },
  {
   "cell_type": "code",
   "execution_count": null,
   "id": "db4d91c7",
   "metadata": {},
   "outputs": [],
   "source": []
  },
  {
   "cell_type": "code",
   "execution_count": null,
   "id": "6fee9b71",
   "metadata": {},
   "outputs": [],
   "source": []
  },
  {
   "cell_type": "code",
   "execution_count": null,
   "id": "3f8a65cd",
   "metadata": {},
   "outputs": [],
   "source": []
  },
  {
   "cell_type": "code",
   "execution_count": null,
   "id": "4c618be3",
   "metadata": {},
   "outputs": [],
   "source": []
  },
  {
   "cell_type": "code",
   "execution_count": null,
   "id": "7c300e97",
   "metadata": {},
   "outputs": [],
   "source": []
  },
  {
   "cell_type": "code",
   "execution_count": null,
   "id": "ed154732",
   "metadata": {},
   "outputs": [],
   "source": []
  },
  {
   "cell_type": "code",
   "execution_count": null,
   "id": "ee31878b",
   "metadata": {},
   "outputs": [],
   "source": []
  },
  {
   "cell_type": "code",
   "execution_count": null,
   "id": "caaf069b",
   "metadata": {},
   "outputs": [],
   "source": []
  },
  {
   "cell_type": "code",
   "execution_count": null,
   "id": "60b903d4",
   "metadata": {},
   "outputs": [],
   "source": []
  },
  {
   "cell_type": "code",
   "execution_count": null,
   "id": "fa58cfe7",
   "metadata": {},
   "outputs": [],
   "source": []
  },
  {
   "cell_type": "code",
   "execution_count": null,
   "id": "bb420a4c",
   "metadata": {},
   "outputs": [],
   "source": []
  },
  {
   "cell_type": "code",
   "execution_count": null,
   "id": "6b0145a3",
   "metadata": {},
   "outputs": [],
   "source": []
  },
  {
   "cell_type": "code",
   "execution_count": null,
   "id": "5ea142c2",
   "metadata": {},
   "outputs": [],
   "source": []
  },
  {
   "cell_type": "code",
   "execution_count": null,
   "id": "27baefd9",
   "metadata": {},
   "outputs": [],
   "source": []
  },
  {
   "cell_type": "code",
   "execution_count": null,
   "id": "602e7595",
   "metadata": {},
   "outputs": [],
   "source": []
  },
  {
   "cell_type": "code",
   "execution_count": null,
   "id": "f1a7c811",
   "metadata": {},
   "outputs": [],
   "source": []
  },
  {
   "cell_type": "code",
   "execution_count": null,
   "id": "7ccf7920",
   "metadata": {},
   "outputs": [],
   "source": []
  },
  {
   "cell_type": "code",
   "execution_count": null,
   "id": "2311fe52",
   "metadata": {},
   "outputs": [],
   "source": []
  },
  {
   "cell_type": "code",
   "execution_count": null,
   "id": "473f5b80",
   "metadata": {},
   "outputs": [],
   "source": []
  },
  {
   "cell_type": "code",
   "execution_count": null,
   "id": "9b79f480",
   "metadata": {},
   "outputs": [],
   "source": []
  },
  {
   "cell_type": "code",
   "execution_count": null,
   "id": "fff6f68e",
   "metadata": {},
   "outputs": [],
   "source": []
  },
  {
   "cell_type": "code",
   "execution_count": null,
   "id": "f0a238c7",
   "metadata": {},
   "outputs": [],
   "source": []
  },
  {
   "cell_type": "code",
   "execution_count": null,
   "id": "649ca77d",
   "metadata": {},
   "outputs": [],
   "source": []
  },
  {
   "cell_type": "code",
   "execution_count": null,
   "id": "3694ae47",
   "metadata": {},
   "outputs": [],
   "source": []
  },
  {
   "cell_type": "code",
   "execution_count": null,
   "id": "a9ecb1c5",
   "metadata": {},
   "outputs": [],
   "source": []
  },
  {
   "cell_type": "code",
   "execution_count": null,
   "id": "e78132df",
   "metadata": {},
   "outputs": [],
   "source": [
    "\n"
   ]
  }
 ],
 "metadata": {
  "kernelspec": {
   "display_name": "Python 3 (ipykernel)",
   "language": "python",
   "name": "python3"
  },
  "language_info": {
   "codemirror_mode": {
    "name": "ipython",
    "version": 3
   },
   "file_extension": ".py",
   "mimetype": "text/x-python",
   "name": "python",
   "nbconvert_exporter": "python",
   "pygments_lexer": "ipython3",
   "version": "3.11.4"
  }
 },
 "nbformat": 4,
 "nbformat_minor": 5
}
