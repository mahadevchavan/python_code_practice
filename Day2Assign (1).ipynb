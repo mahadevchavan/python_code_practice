{
 "cells": [
  {
   "cell_type": "markdown",
   "id": "493ea6a8",
   "metadata": {},
   "source": [
    "# Q1"
   ]
  },
  {
   "cell_type": "code",
   "execution_count": 1,
   "id": "2582d7ff",
   "metadata": {},
   "outputs": [
    {
     "data": {
      "text/plain": [
       "inf"
      ]
     },
     "execution_count": 1,
     "metadata": {},
     "output_type": "execute_result"
    }
   ],
   "source": [
    "1.5e200 *2.0e210\n",
    "#because the exponential limit to the float variable is upto 10^-308 to 10^+308"
   ]
  },
  {
   "cell_type": "code",
   "execution_count": 2,
   "id": "28df1813",
   "metadata": {},
   "outputs": [
    {
     "data": {
      "text/plain": [
       "0.0"
      ]
     },
     "execution_count": 2,
     "metadata": {},
     "output_type": "execute_result"
    }
   ],
   "source": [
    "3.4e-320 / 1e100\n",
    "#because "
   ]
  },
  {
   "cell_type": "markdown",
   "id": "c038401e",
   "metadata": {},
   "source": [
    "# Q2"
   ]
  },
  {
   "cell_type": "code",
   "execution_count": 3,
   "id": "395a4a83",
   "metadata": {},
   "outputs": [
    {
     "data": {
      "text/plain": [
       "0.3333333333333333"
      ]
     },
     "execution_count": 3,
     "metadata": {},
     "output_type": "execute_result"
    }
   ],
   "source": [
    "1/3"
   ]
  },
  {
   "cell_type": "code",
   "execution_count": 4,
   "id": "7addf2b8",
   "metadata": {},
   "outputs": [
    {
     "data": {
      "text/plain": [
       "'0.333'"
      ]
     },
     "execution_count": 4,
     "metadata": {},
     "output_type": "execute_result"
    }
   ],
   "source": [
    "format(1/3, '.3f')"
   ]
  },
  {
   "cell_type": "code",
   "execution_count": 5,
   "id": "07632e9a",
   "metadata": {},
   "outputs": [
    {
     "data": {
      "text/plain": [
       "'0.3'"
      ]
     },
     "execution_count": 5,
     "metadata": {},
     "output_type": "execute_result"
    }
   ],
   "source": [
    "format(1/3, '.1f')"
   ]
  },
  {
   "cell_type": "code",
   "execution_count": 6,
   "id": "6c2a8401",
   "metadata": {},
   "outputs": [
    {
     "data": {
      "text/plain": [
       "2.0"
      ]
     },
     "execution_count": 6,
     "metadata": {},
     "output_type": "execute_result"
    }
   ],
   "source": [
    "6*1/3"
   ]
  },
  {
   "cell_type": "code",
   "execution_count": 7,
   "id": "e68ef61d",
   "metadata": {},
   "outputs": [
    {
     "data": {
      "text/plain": [
       "1.9999999999999998"
      ]
     },
     "execution_count": 7,
     "metadata": {},
     "output_type": "execute_result"
    }
   ],
   "source": [
    "1/3 + 1/3 + 1/3 + 1/3 + 1/3 + 1/3"
   ]
  },
  {
   "cell_type": "markdown",
   "id": "d3f7cf16",
   "metadata": {},
   "source": [
    "# Q3"
   ]
  },
  {
   "cell_type": "markdown",
   "id": "46bee530",
   "metadata": {},
   "source": [
    "1)ans of a is not rounded of to any precision but in b the value is rounded to 3 digits only\n",
    "2)"
   ]
  },
  {
   "cell_type": "markdown",
   "id": "3f583556",
   "metadata": {},
   "source": [
    "# Q4"
   ]
  },
  {
   "cell_type": "code",
   "execution_count": 19,
   "id": "5c08de6c",
   "metadata": {},
   "outputs": [
    {
     "data": {
      "text/plain": [
       "'3.14286'"
      ]
     },
     "execution_count": 19,
     "metadata": {},
     "output_type": "execute_result"
    }
   ],
   "source": [
    "#1\n",
    "format(22/7 ,'.5f')"
   ]
  },
  {
   "cell_type": "code",
   "execution_count": 48,
   "id": "bb96355a",
   "metadata": {},
   "outputs": [
    {
     "data": {
      "text/plain": [
       "'     hello'"
      ]
     },
     "execution_count": 48,
     "metadata": {},
     "output_type": "execute_result"
    }
   ],
   "source": [
    "#2\n",
    "'{:>10}'.format('hello')\n"
   ]
  },
  {
   "cell_type": "code",
   "execution_count": 47,
   "id": "9f706e71",
   "metadata": {},
   "outputs": [
    {
     "data": {
      "text/plain": [
       "'hello     '"
      ]
     },
     "execution_count": 47,
     "metadata": {},
     "output_type": "execute_result"
    }
   ],
   "source": [
    "'{:<10}'.format('hello')"
   ]
  },
  {
   "cell_type": "code",
   "execution_count": 39,
   "id": "c0c71cb8",
   "metadata": {},
   "outputs": [
    {
     "name": "stdout",
     "output_type": "stream",
     "text": [
      "Return value.__format__(format_spec)\n",
      "\n",
      "format_spec defaults to the empty string.\n",
      "See the Format Specification Mini-Language section of help('FORMATTING') for\n",
      "details.\n"
     ]
    }
   ],
   "source": [
    "print(format.__doc__)"
   ]
  },
  {
   "cell_type": "code",
   "execution_count": 40,
   "id": "477bcebc",
   "metadata": {},
   "outputs": [
    {
     "name": "stdout",
     "output_type": "stream",
     "text": [
      "Format String Syntax\n",
      "********************\n",
      "\n",
      "The \"str.format()\" method and the \"Formatter\" class share the same\n",
      "syntax for format strings (although in the case of \"Formatter\",\n",
      "subclasses can define their own format string syntax).  The syntax is\n",
      "related to that of formatted string literals, but it is less\n",
      "sophisticated and, in particular, does not support arbitrary\n",
      "expressions.\n",
      "\n",
      "Format strings contain “replacement fields” surrounded by curly braces\n",
      "\"{}\". Anything that is not contained in braces is considered literal\n",
      "text, which is copied unchanged to the output.  If you need to include\n",
      "a brace character in the literal text, it can be escaped by doubling:\n",
      "\"{{\" and \"}}\".\n",
      "\n",
      "The grammar for a replacement field is as follows:\n",
      "\n",
      "      replacement_field ::= \"{\" [field_name] [\"!\" conversion] [\":\" format_spec] \"}\"\n",
      "      field_name        ::= arg_name (\".\" attribute_name | \"[\" element_index \"]\")*\n",
      "      arg_name          ::= [identifier | digit+]\n",
      "      attribute_name    ::= identifier\n",
      "      element_index     ::= digit+ | index_string\n",
      "      index_string      ::= <any source character except \"]\"> +\n",
      "      conversion        ::= \"r\" | \"s\" | \"a\"\n",
      "      format_spec       ::= <described in the next section>\n",
      "\n",
      "In less formal terms, the replacement field can start with a\n",
      "*field_name* that specifies the object whose value is to be formatted\n",
      "and inserted into the output instead of the replacement field. The\n",
      "*field_name* is optionally followed by a  *conversion* field, which is\n",
      "preceded by an exclamation point \"'!'\", and a *format_spec*, which is\n",
      "preceded by a colon \"':'\".  These specify a non-default format for the\n",
      "replacement value.\n",
      "\n",
      "See also the Format Specification Mini-Language section.\n",
      "\n",
      "The *field_name* itself begins with an *arg_name* that is either a\n",
      "number or a keyword.  If it’s a number, it refers to a positional\n",
      "argument, and if it’s a keyword, it refers to a named keyword\n",
      "argument.  If the numerical arg_names in a format string are 0, 1, 2,\n",
      "… in sequence, they can all be omitted (not just some) and the numbers\n",
      "0, 1, 2, … will be automatically inserted in that order. Because\n",
      "*arg_name* is not quote-delimited, it is not possible to specify\n",
      "arbitrary dictionary keys (e.g., the strings \"'10'\" or \"':-]'\") within\n",
      "a format string. The *arg_name* can be followed by any number of index\n",
      "or attribute expressions. An expression of the form \"'.name'\" selects\n",
      "the named attribute using \"getattr()\", while an expression of the form\n",
      "\"'[index]'\" does an index lookup using \"__getitem__()\".\n",
      "\n",
      "Changed in version 3.1: The positional argument specifiers can be\n",
      "omitted for \"str.format()\", so \"'{} {}'.format(a, b)\" is equivalent to\n",
      "\"'{0} {1}'.format(a, b)\".\n",
      "\n",
      "Changed in version 3.4: The positional argument specifiers can be\n",
      "omitted for \"Formatter\".\n",
      "\n",
      "Some simple format string examples:\n",
      "\n",
      "   \"First, thou shalt count to {0}\"  # References first positional argument\n",
      "   \"Bring me a {}\"                   # Implicitly references the first positional argument\n",
      "   \"From {} to {}\"                   # Same as \"From {0} to {1}\"\n",
      "   \"My quest is {name}\"              # References keyword argument 'name'\n",
      "   \"Weight in tons {0.weight}\"       # 'weight' attribute of first positional arg\n",
      "   \"Units destroyed: {players[0]}\"   # First element of keyword argument 'players'.\n",
      "\n",
      "The *conversion* field causes a type coercion before formatting.\n",
      "Normally, the job of formatting a value is done by the \"__format__()\"\n",
      "method of the value itself.  However, in some cases it is desirable to\n",
      "force a type to be formatted as a string, overriding its own\n",
      "definition of formatting.  By converting the value to a string before\n",
      "calling \"__format__()\", the normal formatting logic is bypassed.\n",
      "\n",
      "Three conversion flags are currently supported: \"'!s'\" which calls\n",
      "\"str()\" on the value, \"'!r'\" which calls \"repr()\" and \"'!a'\" which\n",
      "calls \"ascii()\".\n",
      "\n",
      "Some examples:\n",
      "\n",
      "   \"Harold's a clever {0!s}\"        # Calls str() on the argument first\n",
      "   \"Bring out the holy {name!r}\"    # Calls repr() on the argument first\n",
      "   \"More {!a}\"                      # Calls ascii() on the argument first\n",
      "\n",
      "The *format_spec* field contains a specification of how the value\n",
      "should be presented, including such details as field width, alignment,\n",
      "padding, decimal precision and so on.  Each value type can define its\n",
      "own “formatting mini-language” or interpretation of the *format_spec*.\n",
      "\n",
      "Most built-in types support a common formatting mini-language, which\n",
      "is described in the next section.\n",
      "\n",
      "A *format_spec* field can also include nested replacement fields\n",
      "within it. These nested replacement fields may contain a field name,\n",
      "conversion flag and format specification, but deeper nesting is not\n",
      "allowed.  The replacement fields within the format_spec are\n",
      "substituted before the *format_spec* string is interpreted. This\n",
      "allows the formatting of a value to be dynamically specified.\n",
      "\n",
      "See the Format examples section for some examples.\n",
      "\n",
      "\n",
      "Format Specification Mini-Language\n",
      "==================================\n",
      "\n",
      "“Format specifications” are used within replacement fields contained\n",
      "within a format string to define how individual values are presented\n",
      "(see Format String Syntax and Formatted string literals). They can\n",
      "also be passed directly to the built-in \"format()\" function.  Each\n",
      "formattable type may define how the format specification is to be\n",
      "interpreted.\n",
      "\n",
      "Most built-in types implement the following options for format\n",
      "specifications, although some of the formatting options are only\n",
      "supported by the numeric types.\n",
      "\n",
      "A general convention is that an empty format specification produces\n",
      "the same result as if you had called \"str()\" on the value. A non-empty\n",
      "format specification typically modifies the result.\n",
      "\n",
      "The general form of a *standard format specifier* is:\n",
      "\n",
      "   format_spec     ::= [[fill]align][sign][\"z\"][\"#\"][\"0\"][width][grouping_option][\".\" precision][type]\n",
      "   fill            ::= <any character>\n",
      "   align           ::= \"<\" | \">\" | \"=\" | \"^\"\n",
      "   sign            ::= \"+\" | \"-\" | \" \"\n",
      "   width           ::= digit+\n",
      "   grouping_option ::= \"_\" | \",\"\n",
      "   precision       ::= digit+\n",
      "   type            ::= \"b\" | \"c\" | \"d\" | \"e\" | \"E\" | \"f\" | \"F\" | \"g\" | \"G\" | \"n\" | \"o\" | \"s\" | \"x\" | \"X\" | \"%\"\n",
      "\n",
      "If a valid *align* value is specified, it can be preceded by a *fill*\n",
      "character that can be any character and defaults to a space if\n",
      "omitted. It is not possible to use a literal curly brace (”\"{\"” or\n",
      "“\"}\"”) as the *fill* character in a formatted string literal or when\n",
      "using the \"str.format()\" method.  However, it is possible to insert a\n",
      "curly brace with a nested replacement field.  This limitation doesn’t\n",
      "affect the \"format()\" function.\n",
      "\n",
      "The meaning of the various alignment options is as follows:\n",
      "\n",
      "   +-----------+------------------------------------------------------------+\n",
      "   | Option    | Meaning                                                    |\n",
      "   |===========|============================================================|\n",
      "   | \"'<'\"     | Forces the field to be left-aligned within the available   |\n",
      "   |           | space (this is the default for most objects).              |\n",
      "   +-----------+------------------------------------------------------------+\n",
      "   | \"'>'\"     | Forces the field to be right-aligned within the available  |\n",
      "   |           | space (this is the default for numbers).                   |\n",
      "   +-----------+------------------------------------------------------------+\n",
      "   | \"'='\"     | Forces the padding to be placed after the sign (if any)    |\n",
      "   |           | but before the digits.  This is used for printing fields   |\n",
      "   |           | in the form ‘+000000120’. This alignment option is only    |\n",
      "   |           | valid for numeric types.  It becomes the default for       |\n",
      "   |           | numbers when ‘0’ immediately precedes the field width.     |\n",
      "   +-----------+------------------------------------------------------------+\n",
      "   | \"'^'\"     | Forces the field to be centered within the available       |\n",
      "   |           | space.                                                     |\n",
      "   +-----------+------------------------------------------------------------+\n",
      "\n",
      "Note that unless a minimum field width is defined, the field width\n",
      "will always be the same size as the data to fill it, so that the\n",
      "alignment option has no meaning in this case.\n",
      "\n",
      "The *sign* option is only valid for number types, and can be one of\n",
      "the following:\n",
      "\n",
      "   +-----------+------------------------------------------------------------+\n",
      "   | Option    | Meaning                                                    |\n",
      "   |===========|============================================================|\n",
      "   | \"'+'\"     | indicates that a sign should be used for both positive as  |\n",
      "   |           | well as negative numbers.                                  |\n",
      "   +-----------+------------------------------------------------------------+\n",
      "   | \"'-'\"     | indicates that a sign should be used only for negative     |\n",
      "   |           | numbers (this is the default behavior).                    |\n",
      "   +-----------+------------------------------------------------------------+\n",
      "   | space     | indicates that a leading space should be used on positive  |\n",
      "   |           | numbers, and a minus sign on negative numbers.             |\n",
      "   +-----------+------------------------------------------------------------+\n",
      "\n",
      "The \"'z'\" option coerces negative zero floating-point values to\n",
      "positive zero after rounding to the format precision.  This option is\n",
      "only valid for floating-point presentation types.\n",
      "\n",
      "Changed in version 3.11: Added the \"'z'\" option (see also **PEP\n",
      "682**).\n",
      "\n",
      "The \"'#'\" option causes the “alternate form” to be used for the\n",
      "conversion.  The alternate form is defined differently for different\n",
      "types.  This option is only valid for integer, float and complex\n",
      "types. For integers, when binary, octal, or hexadecimal output is\n",
      "used, this option adds the respective prefix \"'0b'\", \"'0o'\", \"'0x'\",\n",
      "or \"'0X'\" to the output value. For float and complex the alternate\n",
      "form causes the result of the conversion to always contain a decimal-\n",
      "point character, even if no digits follow it. Normally, a decimal-\n",
      "point character appears in the result of these conversions only if a\n",
      "digit follows it. In addition, for \"'g'\" and \"'G'\" conversions,\n",
      "trailing zeros are not removed from the result.\n",
      "\n",
      "The \"','\" option signals the use of a comma for a thousands separator.\n",
      "For a locale aware separator, use the \"'n'\" integer presentation type\n",
      "instead.\n",
      "\n",
      "Changed in version 3.1: Added the \"','\" option (see also **PEP 378**).\n",
      "\n",
      "The \"'_'\" option signals the use of an underscore for a thousands\n",
      "separator for floating point presentation types and for integer\n",
      "presentation type \"'d'\".  For integer presentation types \"'b'\", \"'o'\",\n",
      "\"'x'\", and \"'X'\", underscores will be inserted every 4 digits.  For\n",
      "other presentation types, specifying this option is an error.\n",
      "\n",
      "Changed in version 3.6: Added the \"'_'\" option (see also **PEP 515**).\n",
      "\n",
      "*width* is a decimal integer defining the minimum total field width,\n",
      "including any prefixes, separators, and other formatting characters.\n",
      "If not specified, then the field width will be determined by the\n",
      "content.\n",
      "\n",
      "When no explicit alignment is given, preceding the *width* field by a\n",
      "zero (\"'0'\") character enables sign-aware zero-padding for numeric\n",
      "types.  This is equivalent to a *fill* character of \"'0'\" with an\n",
      "*alignment* type of \"'='\".\n",
      "\n",
      "Changed in version 3.10: Preceding the *width* field by \"'0'\" no\n",
      "longer affects the default alignment for strings.\n",
      "\n",
      "The *precision* is a decimal integer indicating how many digits should\n",
      "be displayed after the decimal point for presentation types \"'f'\" and\n",
      "\"'F'\", or before and after the decimal point for presentation types\n",
      "\"'g'\" or \"'G'\".  For string presentation types the field indicates the\n",
      "maximum field size - in other words, how many characters will be used\n",
      "from the field content.  The *precision* is not allowed for integer\n",
      "presentation types.\n",
      "\n",
      "Finally, the *type* determines how the data should be presented.\n",
      "\n",
      "The available string presentation types are:\n",
      "\n",
      "   +-----------+------------------------------------------------------------+\n",
      "   | Type      | Meaning                                                    |\n",
      "   |===========|============================================================|\n",
      "   | \"'s'\"     | String format. This is the default type for strings and    |\n",
      "   |           | may be omitted.                                            |\n",
      "   +-----------+------------------------------------------------------------+\n",
      "   | None      | The same as \"'s'\".                                         |\n",
      "   +-----------+------------------------------------------------------------+\n",
      "\n",
      "The available integer presentation types are:\n",
      "\n",
      "   +-----------+------------------------------------------------------------+\n",
      "   | Type      | Meaning                                                    |\n",
      "   |===========|============================================================|\n",
      "   | \"'b'\"     | Binary format. Outputs the number in base 2.               |\n",
      "   +-----------+------------------------------------------------------------+\n",
      "   | \"'c'\"     | Character. Converts the integer to the corresponding       |\n",
      "   |           | unicode character before printing.                         |\n",
      "   +-----------+------------------------------------------------------------+\n",
      "   | \"'d'\"     | Decimal Integer. Outputs the number in base 10.            |\n",
      "   +-----------+------------------------------------------------------------+\n",
      "   | \"'o'\"     | Octal format. Outputs the number in base 8.                |\n",
      "   +-----------+------------------------------------------------------------+\n",
      "   | \"'x'\"     | Hex format. Outputs the number in base 16, using lower-    |\n",
      "   |           | case letters for the digits above 9.                       |\n",
      "   +-----------+------------------------------------------------------------+\n",
      "   | \"'X'\"     | Hex format. Outputs the number in base 16, using upper-    |\n",
      "   |           | case letters for the digits above 9. In case \"'#'\" is      |\n",
      "   |           | specified, the prefix \"'0x'\" will be upper-cased to \"'0X'\" |\n",
      "   |           | as well.                                                   |\n",
      "   +-----------+------------------------------------------------------------+\n",
      "   | \"'n'\"     | Number. This is the same as \"'d'\", except that it uses the |\n",
      "   |           | current locale setting to insert the appropriate number    |\n",
      "   |           | separator characters.                                      |\n",
      "   +-----------+------------------------------------------------------------+\n",
      "   | None      | The same as \"'d'\".                                         |\n",
      "   +-----------+------------------------------------------------------------+\n",
      "\n",
      "In addition to the above presentation types, integers can be formatted\n",
      "with the floating point presentation types listed below (except \"'n'\"\n",
      "and \"None\"). When doing so, \"float()\" is used to convert the integer\n",
      "to a floating point number before formatting.\n",
      "\n",
      "The available presentation types for \"float\" and \"Decimal\" values are:\n",
      "\n",
      "   +-----------+------------------------------------------------------------+\n",
      "   | Type      | Meaning                                                    |\n",
      "   |===========|============================================================|\n",
      "   | \"'e'\"     | Scientific notation. For a given precision \"p\", formats    |\n",
      "   |           | the number in scientific notation with the letter ‘e’      |\n",
      "   |           | separating the coefficient from the exponent. The          |\n",
      "   |           | coefficient has one digit before and \"p\" digits after the  |\n",
      "   |           | decimal point, for a total of \"p + 1\" significant digits.  |\n",
      "   |           | With no precision given, uses a precision of \"6\" digits    |\n",
      "   |           | after the decimal point for \"float\", and shows all         |\n",
      "   |           | coefficient digits for \"Decimal\". If no digits follow the  |\n",
      "   |           | decimal point, the decimal point is also removed unless    |\n",
      "   |           | the \"#\" option is used.                                    |\n",
      "   +-----------+------------------------------------------------------------+\n",
      "   | \"'E'\"     | Scientific notation. Same as \"'e'\" except it uses an upper |\n",
      "   |           | case ‘E’ as the separator character.                       |\n",
      "   +-----------+------------------------------------------------------------+\n",
      "   | \"'f'\"     | Fixed-point notation. For a given precision \"p\", formats   |\n",
      "   |           | the number as a decimal number with exactly \"p\" digits     |\n",
      "   |           | following the decimal point. With no precision given, uses |\n",
      "   |           | a precision of \"6\" digits after the decimal point for      |\n",
      "   |           | \"float\", and uses a precision large enough to show all     |\n",
      "   |           | coefficient digits for \"Decimal\". If no digits follow the  |\n",
      "   |           | decimal point, the decimal point is also removed unless    |\n",
      "   |           | the \"#\" option is used.                                    |\n",
      "   +-----------+------------------------------------------------------------+\n",
      "   | \"'F'\"     | Fixed-point notation. Same as \"'f'\", but converts \"nan\" to |\n",
      "   |           | \"NAN\" and \"inf\" to \"INF\".                                  |\n",
      "   +-----------+------------------------------------------------------------+\n",
      "   | \"'g'\"     | General format.  For a given precision \"p >= 1\", this      |\n",
      "   |           | rounds the number to \"p\" significant digits and then       |\n",
      "   |           | formats the result in either fixed-point format or in      |\n",
      "   |           | scientific notation, depending on its magnitude. A         |\n",
      "   |           | precision of \"0\" is treated as equivalent to a precision   |\n",
      "   |           | of \"1\".  The precise rules are as follows: suppose that    |\n",
      "   |           | the result formatted with presentation type \"'e'\" and      |\n",
      "   |           | precision \"p-1\" would have exponent \"exp\".  Then, if \"m <= |\n",
      "   |           | exp < p\", where \"m\" is -4 for floats and -6 for            |\n",
      "   |           | \"Decimals\", the number is formatted with presentation type |\n",
      "   |           | \"'f'\" and precision \"p-1-exp\".  Otherwise, the number is   |\n",
      "   |           | formatted with presentation type \"'e'\" and precision       |\n",
      "   |           | \"p-1\". In both cases insignificant trailing zeros are      |\n",
      "   |           | removed from the significand, and the decimal point is     |\n",
      "   |           | also removed if there are no remaining digits following    |\n",
      "   |           | it, unless the \"'#'\" option is used.  With no precision    |\n",
      "   |           | given, uses a precision of \"6\" significant digits for      |\n",
      "   |           | \"float\". For \"Decimal\", the coefficient of the result is   |\n",
      "   |           | formed from the coefficient digits of the value;           |\n",
      "   |           | scientific notation is used for values smaller than \"1e-6\" |\n",
      "   |           | in absolute value and values where the place value of the  |\n",
      "   |           | least significant digit is larger than 1, and fixed-point  |\n",
      "   |           | notation is used otherwise.  Positive and negative         |\n",
      "   |           | infinity, positive and negative zero, and nans, are        |\n",
      "   |           | formatted as \"inf\", \"-inf\", \"0\", \"-0\" and \"nan\"            |\n",
      "   |           | respectively, regardless of the precision.                 |\n",
      "   +-----------+------------------------------------------------------------+\n",
      "   | \"'G'\"     | General format. Same as \"'g'\" except switches to \"'E'\" if  |\n",
      "   |           | the number gets too large. The representations of infinity |\n",
      "   |           | and NaN are uppercased, too.                               |\n",
      "   +-----------+------------------------------------------------------------+\n",
      "   | \"'n'\"     | Number. This is the same as \"'g'\", except that it uses the |\n",
      "   |           | current locale setting to insert the appropriate number    |\n",
      "   |           | separator characters.                                      |\n",
      "   +-----------+------------------------------------------------------------+\n",
      "   | \"'%'\"     | Percentage. Multiplies the number by 100 and displays in   |\n",
      "   |           | fixed (\"'f'\") format, followed by a percent sign.          |\n",
      "   +-----------+------------------------------------------------------------+\n",
      "   | None      | For \"float\" this is the same as \"'g'\", except that when    |\n",
      "   |           | fixed-point notation is used to format the result, it      |\n",
      "   |           | always includes at least one digit past the decimal point. |\n",
      "   |           | The precision used is as large as needed to represent the  |\n",
      "   |           | given value faithfully.  For \"Decimal\", this is the same   |\n",
      "   |           | as either \"'g'\" or \"'G'\" depending on the value of         |\n",
      "   |           | \"context.capitals\" for the current decimal context.  The   |\n",
      "   |           | overall effect is to match the output of \"str()\" as        |\n",
      "   |           | altered by the other format modifiers.                     |\n",
      "   +-----------+------------------------------------------------------------+\n",
      "\n",
      "\n",
      "Format examples\n",
      "===============\n",
      "\n",
      "This section contains examples of the \"str.format()\" syntax and\n",
      "comparison with the old \"%\"-formatting.\n",
      "\n",
      "In most of the cases the syntax is similar to the old \"%\"-formatting,\n",
      "with the addition of the \"{}\" and with \":\" used instead of \"%\". For\n",
      "example, \"'%03.2f'\" can be translated to \"'{:03.2f}'\".\n",
      "\n",
      "The new format syntax also supports new and different options, shown\n",
      "in the following examples.\n",
      "\n",
      "Accessing arguments by position:\n",
      "\n",
      "   >>> '{0}, {1}, {2}'.format('a', 'b', 'c')\n",
      "   'a, b, c'\n",
      "   >>> '{}, {}, {}'.format('a', 'b', 'c')  # 3.1+ only\n",
      "   'a, b, c'\n",
      "   >>> '{2}, {1}, {0}'.format('a', 'b', 'c')\n",
      "   'c, b, a'\n",
      "   >>> '{2}, {1}, {0}'.format(*'abc')      # unpacking argument sequence\n",
      "   'c, b, a'\n",
      "   >>> '{0}{1}{0}'.format('abra', 'cad')   # arguments' indices can be repeated\n",
      "   'abracadabra'\n",
      "\n",
      "Accessing arguments by name:\n",
      "\n",
      "   >>> 'Coordinates: {latitude}, {longitude}'.format(latitude='37.24N', longitude='-115.81W')\n",
      "   'Coordinates: 37.24N, -115.81W'\n",
      "   >>> coord = {'latitude': '37.24N', 'longitude': '-115.81W'}\n",
      "   >>> 'Coordinates: {latitude}, {longitude}'.format(**coord)\n",
      "   'Coordinates: 37.24N, -115.81W'\n",
      "\n",
      "Accessing arguments’ attributes:\n",
      "\n",
      "   >>> c = 3-5j\n",
      "   >>> ('The complex number {0} is formed from the real part {0.real} '\n",
      "   ...  'and the imaginary part {0.imag}.').format(c)\n",
      "   'The complex number (3-5j) is formed from the real part 3.0 and the imaginary part -5.0.'\n",
      "   >>> class Point:\n",
      "   ...     def __init__(self, x, y):\n",
      "   ...         self.x, self.y = x, y\n",
      "   ...     def __str__(self):\n",
      "   ...         return 'Point({self.x}, {self.y})'.format(self=self)\n",
      "   ...\n",
      "   >>> str(Point(4, 2))\n",
      "   'Point(4, 2)'\n",
      "\n",
      "Accessing arguments’ items:\n",
      "\n",
      "   >>> coord = (3, 5)\n",
      "   >>> 'X: {0[0]};  Y: {0[1]}'.format(coord)\n",
      "   'X: 3;  Y: 5'\n",
      "\n",
      "Replacing \"%s\" and \"%r\":\n",
      "\n",
      "   >>> \"repr() shows quotes: {!r}; str() doesn't: {!s}\".format('test1', 'test2')\n",
      "   \"repr() shows quotes: 'test1'; str() doesn't: test2\"\n",
      "\n",
      "Aligning the text and specifying a width:\n",
      "\n",
      "   >>> '{:<30}'.format('left aligned')\n",
      "   'left aligned                  '\n",
      "   >>> '{:>30}'.format('right aligned')\n",
      "   '                 right aligned'\n",
      "   >>> '{:^30}'.format('centered')\n",
      "   '           centered           '\n",
      "   >>> '{:*^30}'.format('centered')  # use '*' as a fill char\n",
      "   '***********centered***********'\n",
      "\n",
      "Replacing \"%+f\", \"%-f\", and \"% f\" and specifying a sign:\n",
      "\n",
      "   >>> '{:+f}; {:+f}'.format(3.14, -3.14)  # show it always\n",
      "   '+3.140000; -3.140000'\n",
      "   >>> '{: f}; {: f}'.format(3.14, -3.14)  # show a space for positive numbers\n",
      "   ' 3.140000; -3.140000'\n",
      "   >>> '{:-f}; {:-f}'.format(3.14, -3.14)  # show only the minus -- same as '{:f}; {:f}'\n",
      "   '3.140000; -3.140000'\n",
      "\n",
      "Replacing \"%x\" and \"%o\" and converting the value to different bases:\n",
      "\n",
      "   >>> # format also supports binary numbers\n",
      "   >>> \"int: {0:d};  hex: {0:x};  oct: {0:o};  bin: {0:b}\".format(42)\n",
      "   'int: 42;  hex: 2a;  oct: 52;  bin: 101010'\n",
      "   >>> # with 0x, 0o, or 0b as prefix:\n",
      "   >>> \"int: {0:d};  hex: {0:#x};  oct: {0:#o};  bin: {0:#b}\".format(42)\n",
      "   'int: 42;  hex: 0x2a;  oct: 0o52;  bin: 0b101010'\n",
      "\n",
      "Using the comma as a thousands separator:\n",
      "\n",
      "   >>> '{:,}'.format(1234567890)\n",
      "   '1,234,567,890'\n",
      "\n",
      "Expressing a percentage:\n",
      "\n",
      "   >>> points = 19\n",
      "   >>> total = 22\n",
      "   >>> 'Correct answers: {:.2%}'.format(points/total)\n",
      "   'Correct answers: 86.36%'\n",
      "\n",
      "Using type-specific formatting:\n",
      "\n",
      "   >>> import datetime\n",
      "   >>> d = datetime.datetime(2010, 7, 4, 12, 15, 58)\n",
      "   >>> '{:%Y-%m-%d %H:%M:%S}'.format(d)\n",
      "   '2010-07-04 12:15:58'\n",
      "\n",
      "Nesting arguments and more complex examples:\n",
      "\n",
      "   >>> for align, text in zip('<^>', ['left', 'center', 'right']):\n",
      "   ...     '{0:{fill}{align}16}'.format(text, fill=align, align=align)\n",
      "   ...\n",
      "   'left<<<<<<<<<<<<'\n",
      "   '^^^^^center^^^^^'\n",
      "   '>>>>>>>>>>>right'\n",
      "   >>>\n",
      "   >>> octets = [192, 168, 0, 1]\n",
      "   >>> '{:02X}{:02X}{:02X}{:02X}'.format(*octets)\n",
      "   'C0A80001'\n",
      "   >>> int(_, 16)\n",
      "   3232235521\n",
      "   >>>\n",
      "   >>> width = 5\n",
      "   >>> for num in range(5,12): \n",
      "   ...     for base in 'dXob':\n",
      "   ...         print('{0:{width}{base}}'.format(num, base=base, width=width), end=' ')\n",
      "   ...     print()\n",
      "   ...\n",
      "       5     5     5   101\n",
      "       6     6     6   110\n",
      "       7     7     7   111\n",
      "       8     8    10  1000\n",
      "       9     9    11  1001\n",
      "      10     A    12  1010\n",
      "      11     B    13  1011\n",
      "\n",
      "Related help topics: OPERATORS\n",
      "\n"
     ]
    }
   ],
   "source": [
    "help('FORMATTING')"
   ]
  },
  {
   "cell_type": "code",
   "execution_count": 10,
   "id": "45415ee3",
   "metadata": {},
   "outputs": [
    {
     "data": {
      "text/plain": [
       "1.6666666666666665"
      ]
     },
     "execution_count": 10,
     "metadata": {},
     "output_type": "execute_result"
    }
   ],
   "source": [
    "1/3+1/3+1/3+1/3+1/3"
   ]
  },
  {
   "cell_type": "markdown",
   "id": "a9488efe",
   "metadata": {},
   "source": [
    "# Q6"
   ]
  },
  {
   "cell_type": "code",
   "execution_count": 43,
   "id": "aa486b28",
   "metadata": {},
   "outputs": [
    {
     "name": "stdout",
     "output_type": "stream",
     "text": [
      "abc \n",
      " bcd\n"
     ]
    }
   ],
   "source": [
    "# Q6.a\n",
    "print(\"abc\",\"\\n\",\"bcd\")"
   ]
  },
  {
   "cell_type": "code",
   "execution_count": 44,
   "id": "523abff8",
   "metadata": {},
   "outputs": [
    {
     "name": "stdout",
     "output_type": "stream",
     "text": [
      "abc\n",
      "bcd\n"
     ]
    }
   ],
   "source": [
    "# Q6.b\n",
    "print(\"abc\\nbcd\")"
   ]
  },
  {
   "cell_type": "code",
   "execution_count": 45,
   "id": "f365c6b1",
   "metadata": {},
   "outputs": [
    {
     "name": "stdout",
     "output_type": "stream",
     "text": [
      "1 \n",
      " 2\n"
     ]
    }
   ],
   "source": [
    "# Q6.c\n",
    "print(1,'\\n',2)"
   ]
  },
  {
   "cell_type": "code",
   "execution_count": 46,
   "id": "74e2c7a4",
   "metadata": {},
   "outputs": [
    {
     "name": "stdout",
     "output_type": "stream",
     "text": [
      "hello \n",
      "\n",
      "!!\n"
     ]
    }
   ],
   "source": [
    "# Q6.d\n",
    "print(\"hello \\n\\n!!\")"
   ]
  },
  {
   "cell_type": "code",
   "execution_count": null,
   "id": "79edaabd",
   "metadata": {},
   "outputs": [],
   "source": [
    "\n",
    "print(\"This is '\\t' means tab\")"
   ]
  },
  {
   "cell_type": "code",
   "execution_count": null,
   "id": "e8e9538c",
   "metadata": {},
   "outputs": [],
   "source": []
  },
  {
   "cell_type": "code",
   "execution_count": null,
   "id": "89d8ea1c",
   "metadata": {},
   "outputs": [],
   "source": []
  },
  {
   "cell_type": "markdown",
   "id": "00cdac83",
   "metadata": {},
   "source": [
    "# Q7"
   ]
  },
  {
   "cell_type": "code",
   "execution_count": 15,
   "id": "955cff2e",
   "metadata": {},
   "outputs": [
    {
     "data": {
      "text/plain": [
       "5.0"
      ]
     },
     "execution_count": 15,
     "metadata": {},
     "output_type": "execute_result"
    }
   ],
   "source": [
    "#Q7.a\n",
    "10/2"
   ]
  },
  {
   "cell_type": "code",
   "execution_count": 16,
   "id": "626103ad",
   "metadata": {},
   "outputs": [
    {
     "data": {
      "text/plain": [
       "5"
      ]
     },
     "execution_count": 16,
     "metadata": {},
     "output_type": "execute_result"
    }
   ],
   "source": [
    "#Q7.b\n",
    "10//2"
   ]
  },
  {
   "cell_type": "code",
   "execution_count": 17,
   "id": "b3ee6fc9",
   "metadata": {},
   "outputs": [
    {
     "data": {
      "text/plain": [
       "33.666666666666664"
      ]
     },
     "execution_count": 17,
     "metadata": {},
     "output_type": "execute_result"
    }
   ],
   "source": [
    "#Q7.c\n",
    "101/3"
   ]
  },
  {
   "cell_type": "code",
   "execution_count": 18,
   "id": "4d5f7994",
   "metadata": {},
   "outputs": [
    {
     "data": {
      "text/plain": [
       "33"
      ]
     },
     "execution_count": 18,
     "metadata": {},
     "output_type": "execute_result"
    }
   ],
   "source": [
    "#Q7.d\n",
    "101//3"
   ]
  },
  {
   "cell_type": "code",
   "execution_count": 19,
   "id": "11d95374",
   "metadata": {},
   "outputs": [
    {
     "data": {
      "text/plain": [
       "2"
      ]
     },
     "execution_count": 19,
     "metadata": {},
     "output_type": "execute_result"
    }
   ],
   "source": [
    "#Q7.e\n",
    "101%3"
   ]
  },
  {
   "cell_type": "code",
   "execution_count": 20,
   "id": "ebe095b3",
   "metadata": {},
   "outputs": [
    {
     "data": {
      "text/plain": [
       "16"
      ]
     },
     "execution_count": 20,
     "metadata": {},
     "output_type": "execute_result"
    }
   ],
   "source": [
    "#Q7.f\n",
    "2**4"
   ]
  },
  {
   "cell_type": "code",
   "execution_count": 21,
   "id": "5741f194",
   "metadata": {},
   "outputs": [
    {
     "data": {
      "text/plain": [
       "9"
      ]
     },
     "execution_count": 21,
     "metadata": {},
     "output_type": "execute_result"
    }
   ],
   "source": [
    "#Q7.g\n",
    "3**2"
   ]
  },
  {
   "cell_type": "code",
   "execution_count": 22,
   "id": "e265ed1c",
   "metadata": {},
   "outputs": [
    {
     "data": {
      "text/plain": [
       "10"
      ]
     },
     "execution_count": 22,
     "metadata": {},
     "output_type": "execute_result"
    }
   ],
   "source": [
    "#Q7.h\n",
    "abs(-10)"
   ]
  },
  {
   "cell_type": "code",
   "execution_count": 23,
   "id": "c4629963",
   "metadata": {},
   "outputs": [
    {
     "data": {
      "text/plain": [
       "(33, 2)"
      ]
     },
     "execution_count": 23,
     "metadata": {},
     "output_type": "execute_result"
    }
   ],
   "source": [
    "#Q7.i\n",
    "divmod(101,3)"
   ]
  },
  {
   "cell_type": "code",
   "execution_count": 24,
   "id": "7db551e2",
   "metadata": {},
   "outputs": [
    {
     "data": {
      "text/plain": [
       "16"
      ]
     },
     "execution_count": 24,
     "metadata": {},
     "output_type": "execute_result"
    }
   ],
   "source": [
    "#Q7.j\n",
    "8 << 1"
   ]
  },
  {
   "cell_type": "code",
   "execution_count": 25,
   "id": "5dae91f6",
   "metadata": {},
   "outputs": [
    {
     "data": {
      "text/plain": [
       "32"
      ]
     },
     "execution_count": 25,
     "metadata": {},
     "output_type": "execute_result"
    }
   ],
   "source": [
    "#Q7.k\n",
    "8 << 2"
   ]
  },
  {
   "cell_type": "code",
   "execution_count": 26,
   "id": "a05f55df",
   "metadata": {},
   "outputs": [
    {
     "data": {
      "text/plain": [
       "8"
      ]
     },
     "execution_count": 26,
     "metadata": {},
     "output_type": "execute_result"
    }
   ],
   "source": [
    "#Q7.l\n",
    "32>>2"
   ]
  },
  {
   "cell_type": "code",
   "execution_count": 27,
   "id": "69078e7e",
   "metadata": {},
   "outputs": [
    {
     "data": {
      "text/plain": [
       "8"
      ]
     },
     "execution_count": 27,
     "metadata": {},
     "output_type": "execute_result"
    }
   ],
   "source": [
    "#Q7.m\n",
    "16>>1"
   ]
  },
  {
   "cell_type": "markdown",
   "id": "2e1a2001",
   "metadata": {},
   "source": [
    "# Q8"
   ]
  },
  {
   "cell_type": "code",
   "execution_count": 49,
   "id": "4f2b2cc5",
   "metadata": {},
   "outputs": [
    {
     "name": "stdout",
     "output_type": "stream",
     "text": [
      "250\n"
     ]
    }
   ],
   "source": [
    "sub1 = 95\n",
    "sub2 = 85\n",
    "sub3 = 70\n",
    "total = sub1 + sub2 + sub3 \n",
    "print(total)"
   ]
  },
  {
   "cell_type": "markdown",
   "id": "0ededcbd",
   "metadata": {},
   "source": [
    "# Q9"
   ]
  },
  {
   "cell_type": "code",
   "execution_count": 28,
   "id": "b2253c1a",
   "metadata": {},
   "outputs": [
    {
     "data": {
      "text/plain": [
       "11"
      ]
     },
     "execution_count": 28,
     "metadata": {},
     "output_type": "execute_result"
    }
   ],
   "source": [
    "#Q9.a\n",
    "2 + 3 * (4 -1)"
   ]
  },
  {
   "cell_type": "code",
   "execution_count": 29,
   "id": "c2f326fa",
   "metadata": {},
   "outputs": [
    {
     "data": {
      "text/plain": [
       "6"
      ]
     },
     "execution_count": 29,
     "metadata": {},
     "output_type": "execute_result"
    }
   ],
   "source": [
    "#Q9.b\n",
    "2 + ((3 *4) - 8)"
   ]
  },
  {
   "cell_type": "code",
   "execution_count": 30,
   "id": "99056f6c",
   "metadata": {},
   "outputs": [
    {
     "data": {
      "text/plain": [
       "20"
      ]
     },
     "execution_count": 30,
     "metadata": {},
     "output_type": "execute_result"
    }
   ],
   "source": [
    "#Q9.c\n",
    "(2 + 3) * 4"
   ]
  },
  {
   "cell_type": "code",
   "execution_count": 31,
   "id": "075a824f",
   "metadata": {},
   "outputs": [
    {
     "data": {
      "text/plain": [
       "-9.107142857142858"
      ]
     },
     "execution_count": 31,
     "metadata": {},
     "output_type": "execute_result"
    }
   ],
   "source": [
    "#Q9.d\n",
    "-10 + 25 / (16 + 12)"
   ]
  },
  {
   "cell_type": "code",
   "execution_count": 32,
   "id": "f1953da8",
   "metadata": {},
   "outputs": [
    {
     "data": {
      "text/plain": [
       "16"
      ]
     },
     "execution_count": 32,
     "metadata": {},
     "output_type": "execute_result"
    }
   ],
   "source": [
    "#Q9.e\n",
    "2 ** 2 ** 2"
   ]
  },
  {
   "cell_type": "code",
   "execution_count": 33,
   "id": "f381aec9",
   "metadata": {},
   "outputs": [
    {
     "data": {
      "text/plain": [
       "729"
      ]
     },
     "execution_count": 33,
     "metadata": {},
     "output_type": "execute_result"
    }
   ],
   "source": [
    "#Q9.f\n",
    "(3 ** 2) ** 3"
   ]
  },
  {
   "cell_type": "code",
   "execution_count": 38,
   "id": "6460e4a2",
   "metadata": {},
   "outputs": [
    {
     "name": "stdout",
     "output_type": "stream",
     "text": [
      "8,8\n"
     ]
    }
   ],
   "source": [
    "#Q9.g\n",
    "x = y = 3 + 5\n",
    "print(x,y,sep=',')"
   ]
  },
  {
   "cell_type": "code",
   "execution_count": 35,
   "id": "5177ba00",
   "metadata": {},
   "outputs": [
    {
     "data": {
      "text/plain": [
       "16.0"
      ]
     },
     "execution_count": 35,
     "metadata": {},
     "output_type": "execute_result"
    }
   ],
   "source": [
    "#Q9.h\n",
    "8/2*(2+2)"
   ]
  },
  {
   "cell_type": "markdown",
   "id": "69815a0e",
   "metadata": {},
   "source": [
    "# Q10"
   ]
  },
  {
   "cell_type": "code",
   "execution_count": 39,
   "id": "da64e148",
   "metadata": {},
   "outputs": [
    {
     "name": "stdout",
     "output_type": "stream",
     "text": [
      "10,10\n"
     ]
    }
   ],
   "source": [
    "# Q10.a\n",
    "x = y = 10\n",
    "print(x,y,sep=\",\")"
   ]
  },
  {
   "cell_type": "code",
   "execution_count": 40,
   "id": "e60c28f6",
   "metadata": {},
   "outputs": [
    {
     "ename": "SyntaxError",
     "evalue": "cannot assign to literal (1101079243.py, line 2)",
     "output_type": "error",
     "traceback": [
      "\u001b[1;36m  Cell \u001b[1;32mIn[40], line 2\u001b[1;36m\u001b[0m\n\u001b[1;33m    x1 = 20 = y1\u001b[0m\n\u001b[1;37m         ^\u001b[0m\n\u001b[1;31mSyntaxError\u001b[0m\u001b[1;31m:\u001b[0m cannot assign to literal\n"
     ]
    }
   ],
   "source": [
    "# Q10.b\n",
    "x1 = 20 = y1\n",
    "print(x1,y1,sep=\",\")"
   ]
  },
  {
   "cell_type": "markdown",
   "id": "3ef18afb",
   "metadata": {},
   "source": [
    "# Q11"
   ]
  },
  {
   "cell_type": "code",
   "execution_count": 41,
   "id": "f1555e94",
   "metadata": {},
   "outputs": [
    {
     "name": "stdout",
     "output_type": "stream",
     "text": [
      "34.4\n",
      "10\n"
     ]
    }
   ],
   "source": [
    "x=10\n",
    "y=34.4\n",
    "print(x and y)\n",
    "print(x or y)"
   ]
  },
  {
   "cell_type": "markdown",
   "id": "d5ebd86a",
   "metadata": {},
   "source": [
    "# Q12 if else"
   ]
  },
  {
   "cell_type": "markdown",
   "id": "2e3bb2a3",
   "metadata": {},
   "source": [
    "# If  x = 2 y = 5 z = 0  then find values of the following expressions and Print the output of following statements"
   ]
  },
  {
   "cell_type": "code",
   "execution_count": 6,
   "id": "b9d2f4b2",
   "metadata": {},
   "outputs": [],
   "source": [
    "x = 2 \n",
    "y = 5\n",
    "z = 0"
   ]
  },
  {
   "cell_type": "code",
   "execution_count": 7,
   "id": "b32ac5fe",
   "metadata": {},
   "outputs": [
    {
     "data": {
      "text/plain": [
       "True"
      ]
     },
     "execution_count": 7,
     "metadata": {},
     "output_type": "execute_result"
    }
   ],
   "source": [
    "x == 2"
   ]
  },
  {
   "cell_type": "code",
   "execution_count": 8,
   "id": "37efd3aa",
   "metadata": {},
   "outputs": [
    {
     "data": {
      "text/plain": [
       "True"
      ]
     },
     "execution_count": 8,
     "metadata": {},
     "output_type": "execute_result"
    }
   ],
   "source": [
    "x != 5"
   ]
  },
  {
   "cell_type": "code",
   "execution_count": 9,
   "id": "cf35110b",
   "metadata": {},
   "outputs": [
    {
     "data": {
      "text/plain": [
       "True"
      ]
     },
     "execution_count": 9,
     "metadata": {},
     "output_type": "execute_result"
    }
   ],
   "source": [
    "x != 5 & y >= 5 "
   ]
  },
  {
   "cell_type": "code",
   "execution_count": 10,
   "id": "467d2fa2",
   "metadata": {},
   "outputs": [
    {
     "data": {
      "text/plain": [
       "True"
      ]
     },
     "execution_count": 10,
     "metadata": {},
     "output_type": "execute_result"
    }
   ],
   "source": [
    "z != 0 | x == 2 "
   ]
  },
  {
   "cell_type": "code",
   "execution_count": 11,
   "id": "b8e43247",
   "metadata": {},
   "outputs": [
    {
     "data": {
      "text/plain": [
       "False"
      ]
     },
     "execution_count": 11,
     "metadata": {},
     "output_type": "execute_result"
    }
   ],
   "source": [
    "not(y < 10)"
   ]
  },
  {
   "cell_type": "markdown",
   "id": "d4157b88",
   "metadata": {},
   "source": [
    "# Q6 If else "
   ]
  },
  {
   "cell_type": "code",
   "execution_count": 29,
   "id": "439e326b",
   "metadata": {},
   "outputs": [],
   "source": [
    "num = 10"
   ]
  },
  {
   "cell_type": "code",
   "execution_count": 30,
   "id": "6994d9f4",
   "metadata": {},
   "outputs": [
    {
     "name": "stdout",
     "output_type": "stream",
     "text": [
      "divsible\n"
     ]
    }
   ],
   "source": [
    "if (num%5==0) or (num%11==0):\n",
    "    print(\"divsible\")\n",
    "else:\n",
    "    print(\"not divisible\")"
   ]
  },
  {
   "cell_type": "markdown",
   "id": "40c6ea15",
   "metadata": {},
   "source": [
    "# Q7 if else"
   ]
  },
  {
   "cell_type": "code",
   "execution_count": 76,
   "id": "2e584501",
   "metadata": {},
   "outputs": [
    {
     "name": "stdout",
     "output_type": "stream",
     "text": [
      "Enter the units in integer50\n"
     ]
    }
   ],
   "source": [
    "num = int(input(\"Enter the units in integer\"))\n",
    "# there is also a float() function to convert a input in float."
   ]
  },
  {
   "cell_type": "code",
   "execution_count": 78,
   "id": "53d90750",
   "metadata": {},
   "outputs": [
    {
     "name": "stdout",
     "output_type": "stream",
     "text": [
      "50\n"
     ]
    }
   ],
   "source": [
    "charge = 0"
   ]
  },
  {
   "cell_type": "code",
   "execution_count": 79,
   "id": "4b674e7e",
   "metadata": {},
   "outputs": [
    {
     "name": "stdout",
     "output_type": "stream",
     "text": [
      "0\n"
     ]
    }
   ],
   "source": [
    "if num <= 100:\n",
    "    charge = 0\n",
    "elif (num >100) and (num <200):\n",
    "    charge = 5 * (num - 100)\n",
    "else:\n",
    "    charge = (num-200)* 10 + 500\n",
    "print(charge)"
   ]
  },
  {
   "cell_type": "code",
   "execution_count": 83,
   "id": "c17fa91c",
   "metadata": {},
   "outputs": [
    {
     "name": "stdout",
     "output_type": "stream",
     "text": [
      "enter a number1\n",
      "enter a number10\n",
      "enter a number10\n",
      "enter a number10\n",
      "enter a number10\n",
      "enter a number10\n",
      "enter a number10\n",
      "enter a number10\n",
      "enter a number10\n",
      "enter a number10\n",
      "91\n",
      "9.1\n"
     ]
    }
   ],
   "source": [
    "total = 0\n",
    "for idx in range(10)\n",
    "    num = int(input(\"enter a number\"))\n",
    "    total += num\n",
    "\n",
    "print(total)\n",
    "Avg = total/10\n",
    "print(Avg)"
   ]
  },
  {
   "cell_type": "markdown",
   "id": "9977ca31",
   "metadata": {},
   "source": [
    "## 4.Take integer inputs from user until he/she presses q ( Ask to press q to quit after every integer input ). Print average and product of all numbers."
   ]
  },
  {
   "cell_type": "code",
   "execution_count": 84,
   "id": "3c85b291",
   "metadata": {},
   "outputs": [
    {
     "name": "stdout",
     "output_type": "stream",
     "text": [
      "enter a number (press q to quit)q\n",
      "outside\n"
     ]
    }
   ],
   "source": [
    "c=input(\"enter a number (press q to quit)\")\n",
    "while (c !='q') and (c !='Q'):\n",
    "    print(c)\n",
    "    c=input(\"enter number (press q to quit)\")\n",
    "print(\"outside\")"
   ]
  },
  {
   "cell_type": "markdown",
   "id": "8b30ae8a",
   "metadata": {},
   "source": [
    "## 6.Given a number count the total number of digits in a number and also find sum of digits of the number. "
   ]
  },
  {
   "cell_type": "code",
   "execution_count": 87,
   "id": "6613f359",
   "metadata": {},
   "outputs": [
    {
     "name": "stdout",
     "output_type": "stream",
     "text": [
      "enter your number5\n",
      "1\n",
      "8\n",
      "27\n",
      "64\n"
     ]
    }
   ],
   "source": [
    "num=int(input(\"enter your number\"))\n",
    "for i in range(1,num):\n",
    "    cube=i**3\n",
    "    print(cube)\n",
    "    "
   ]
  },
  {
   "cell_type": "markdown",
   "id": "23823cb9",
   "metadata": {},
   "source": [
    "## 7.Accept 20 numbers from user and display sum of only even numbers. "
   ]
  },
  {
   "cell_type": "code",
   "execution_count": 89,
   "id": "da60e828",
   "metadata": {},
   "outputs": [
    {
     "name": "stdout",
     "output_type": "stream",
     "text": [
      "enter a number1\n",
      "enter a number2\n",
      "enter a number3\n",
      "enter a number4\n",
      "enter a number5\n",
      "enter a number6\n",
      "enter a number7\n",
      "enter a number8\n",
      "enter a number9\n",
      "enter a number10\n",
      "enter a number11\n",
      "enter a number12\n",
      "enter a number13\n",
      "enter a number14\n",
      "enter a number15\n",
      "enter a number16\n",
      "enter a number17\n",
      "enter a number18\n",
      "enter a number19\n",
      "enter a number20\n",
      "110\n"
     ]
    }
   ],
   "source": [
    "add =0\n",
    "for i in range(20):\n",
    "    num=int(input(\"enter a number\"))\n",
    "    if (num%2==0):\n",
    "        add+=num\n",
    "        \n",
    "        \n",
    "print(add)"
   ]
  },
  {
   "cell_type": "markdown",
   "id": "60c6442c",
   "metadata": {},
   "source": [
    "## 5.Given a number count the total number of digits in a number and also find sum of digits of the number. "
   ]
  },
  {
   "cell_type": "code",
   "execution_count": 90,
   "id": "5cf47407",
   "metadata": {},
   "outputs": [
    {
     "name": "stdout",
     "output_type": "stream",
     "text": [
      "Count of digits is 3\n",
      "sum of digits is  1\n"
     ]
    }
   ],
   "source": [
    "num = 100\n",
    "num_str = str(num)\n",
    "print(\"Count of digits is\",len(num_str))\n",
    "sum_digits = 0\n",
    "for c in num_str:\n",
    "    digit = int(c)\n",
    "    sum_digits = sum_digits + digit\n",
    "print(\"sum of digits is \", sum_digits)"
   ]
  },
  {
   "cell_type": "markdown",
   "id": "1b338402",
   "metadata": {},
   "source": [
    "## 8.Ask user number of terms to be generated of a series. \n",
    "generate numbers for the following series and find its addition \n",
    "[9 + 99 + 999 + 9999+……..] "
   ]
  },
  {
   "cell_type": "code",
   "execution_count": 109,
   "id": "5fbdeb6b",
   "metadata": {},
   "outputs": [
    {
     "name": "stdout",
     "output_type": "stream",
     "text": [
      "enter the number of series5\n",
      "9\n",
      "99\n",
      "999\n",
      "9999\n",
      "11216\n"
     ]
    }
   ],
   "source": [
    "\n",
    "num = int(input(\"enter the number of series\"))\n",
    "for i in range(1,num):\n",
    "    pat = int('9'*i)\n",
    "    add = add+pat\n",
    "    print(pat)\n",
    "print(add)"
   ]
  },
  {
   "cell_type": "markdown",
   "id": "bb5c3645",
   "metadata": {},
   "source": [
    "## take no from user and print all odd numbers till that no"
   ]
  },
  {
   "cell_type": "code",
   "execution_count": 112,
   "id": "e3ea4e0f",
   "metadata": {},
   "outputs": [
    {
     "name": "stdout",
     "output_type": "stream",
     "text": [
      "enter a number20\n",
      "1\n",
      "3\n",
      "5\n",
      "7\n",
      "9\n",
      "11\n",
      "13\n",
      "15\n",
      "17\n",
      "19\n"
     ]
    }
   ],
   "source": [
    "num = int(input(\"enter a number\"))\n",
    "for i in range (1,num,2):\n",
    "    print(i)"
   ]
  },
  {
   "cell_type": "markdown",
   "id": "be2ba278",
   "metadata": {},
   "source": [
    "## 9.Write a program in python to display the sum of the series [ 1+x+x^2/2!+x^3/3!+....]. Go to the editor \n",
    "Test Data : \n",
    "Input the value of x :3 Input number of terms : 5 Expected Output : \n",
    "The sum is : 16.375000 "
   ]
  },
  {
   "cell_type": "code",
   "execution_count": 122,
   "id": "570fa21a",
   "metadata": {},
   "outputs": [
    {
     "name": "stdout",
     "output_type": "stream",
     "text": [
      "enter the number3\n",
      "enter range5\n",
      "16.375\n"
     ]
    }
   ],
   "source": [
    "import math\n",
    "addition = 0\n",
    "number = int(input(\"enter the number\"))\n",
    "char = int(input(\"enter range\"))\n",
    "for i in range(char):\n",
    "    place = (number**i)/(math.factorial(i))\n",
    "    addition = addition + place\n",
    "                     \n",
    "        \n",
    "print(addition)\n",
    "    \n",
    "    "
   ]
  },
  {
   "cell_type": "markdown",
   "id": "09a2d306",
   "metadata": {},
   "source": [
    "## 10.Write a program in python to find the sum of the series [ x - x^3 + x^5 –x^7+x^9-x^11+ ......]. Go to the editor \n",
    "Test Data : \n",
    "Input the value of x :2 Input number of terms : 5 Expected Output : \n",
    "The values of the series: \n",
    "2 \n",
    "-8 \n",
    "32 \n",
    "-128 \n",
    "512 \n",
    "The sum = 410 "
   ]
  },
  {
   "cell_type": "code",
   "execution_count": null,
   "id": "facad28e",
   "metadata": {},
   "outputs": [],
   "source": []
  },
  {
   "cell_type": "markdown",
   "id": "44b83d36",
   "metadata": {},
   "source": [
    "## 11.Take a number from user and check if it is prime or not"
   ]
  },
  {
   "cell_type": "code",
   "execution_count": null,
   "id": "c57de1d7",
   "metadata": {},
   "outputs": [],
   "source": []
  },
  {
   "cell_type": "markdown",
   "id": "b073a9f9",
   "metadata": {},
   "source": [
    "## 12.Take a number from user and print sum of all odd numbers till that number.\n",
    "Ex. Enter a no : 10   \n",
    "Sum of all odd numbers till 10 : 3+5+7+9  =24"
   ]
  },
  {
   "cell_type": "code",
   "execution_count": 5,
   "id": "4c6bc1e8",
   "metadata": {},
   "outputs": [
    {
     "name": "stdout",
     "output_type": "stream",
     "text": [
      "enter a number 8\n",
      "the numbers are\n",
      "1\n",
      "3\n",
      "5\n",
      "7\n",
      "the sum is 16\n"
     ]
    }
   ],
   "source": [
    "total = 0\n",
    "num = int(input(\"enter a number \"))\n",
    "print(\"the numbers are\")\n",
    "for i in range (1,num+1,2):\n",
    "    \n",
    "    print(i)\n",
    "    total += i\n",
    "print(\"the sum is\",total)"
   ]
  },
  {
   "cell_type": "code",
   "execution_count": null,
   "id": "c610e754",
   "metadata": {},
   "outputs": [],
   "source": []
  },
  {
   "cell_type": "markdown",
   "id": "7660bc41",
   "metadata": {},
   "source": [
    "## Q2.d"
   ]
  },
  {
   "cell_type": "code",
   "execution_count": 28,
   "id": "13498948",
   "metadata": {},
   "outputs": [
    {
     "name": "stdout",
     "output_type": "stream",
     "text": [
      "1 \n",
      "\n",
      "2 2 \n",
      "\n",
      "3 3 3 \n",
      "\n",
      "4 4 4 4 \n",
      "\n",
      "5 5 5 5 5 \n",
      "\n"
     ]
    }
   ],
   "source": [
    "for i in range(1,6):\n",
    "    for j in range(i):\n",
    "        print(i, end=' ')\n",
    "        \n",
    "    print(\"\\n\")"
   ]
  },
  {
   "cell_type": "markdown",
   "id": "c4468af2",
   "metadata": {},
   "source": [
    "## Q2.a"
   ]
  },
  {
   "cell_type": "code",
   "execution_count": 26,
   "id": "d6563013",
   "metadata": {},
   "outputs": [
    {
     "name": "stdout",
     "output_type": "stream",
     "text": [
      "*\n",
      "**\n",
      "***\n",
      "****\n",
      "*****\n"
     ]
    }
   ],
   "source": [
    "for i in range(1,6):\n",
    "    print('*'*i)\n",
    "        "
   ]
  },
  {
   "cell_type": "code",
   "execution_count": null,
   "id": "f6f0f68a",
   "metadata": {},
   "outputs": [],
   "source": []
  }
 ],
 "metadata": {
  "kernelspec": {
   "display_name": "Python 3 (ipykernel)",
   "language": "python",
   "name": "python3"
  },
  "language_info": {
   "codemirror_mode": {
    "name": "ipython",
    "version": 3
   },
   "file_extension": ".py",
   "mimetype": "text/x-python",
   "name": "python",
   "nbconvert_exporter": "python",
   "pygments_lexer": "ipython3",
   "version": "3.11.4"
  }
 },
 "nbformat": 4,
 "nbformat_minor": 5
}
