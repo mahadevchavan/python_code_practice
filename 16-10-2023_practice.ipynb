{
 "cells": [
  {
   "cell_type": "code",
   "execution_count": 10,
   "id": "055be79c",
   "metadata": {},
   "outputs": [
    {
     "name": "stdout",
     "output_type": "stream",
     "text": [
      "3\n",
      "[11, 66, 77]\n",
      "154\n",
      "51.333333333333336\n"
     ]
    }
   ],
   "source": [
    "ls1 = [[11,34,89],[45,66,243],[123,90,77]]\n",
    "temp = []\n",
    "count = 0\n",
    "for i in ls1:\n",
    "    for j in i:\n",
    "        if j%11 == 0:\n",
    "            temp.append(j)\n",
    "            count +=1\n",
    "print(count)\n",
    "print(temp)\n",
    "sum1 = 0\n",
    "for i in temp:\n",
    "    sum1 = sum1+i\n",
    "print(sum1)\n",
    "if round(count**(0.5))==count**(0.5):\n",
    "    print(sum1)\n",
    "else:    \n",
    "    avg = sum1/(len(temp))\n",
    "    print(avg)\n",
    "\n"
   ]
  },
  {
   "cell_type": "code",
   "execution_count": null,
   "id": "c24f7a68",
   "metadata": {},
   "outputs": [],
   "source": []
  }
 ],
 "metadata": {
  "kernelspec": {
   "display_name": "Python 3 (ipykernel)",
   "language": "python",
   "name": "python3"
  },
  "language_info": {
   "codemirror_mode": {
    "name": "ipython",
    "version": 3
   },
   "file_extension": ".py",
   "mimetype": "text/x-python",
   "name": "python",
   "nbconvert_exporter": "python",
   "pygments_lexer": "ipython3",
   "version": "3.11.4"
  }
 },
 "nbformat": 4,
 "nbformat_minor": 5
}
