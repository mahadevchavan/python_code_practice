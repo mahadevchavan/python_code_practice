{
 "cells": [
  {
   "cell_type": "markdown",
   "id": "43ed4df8",
   "metadata": {},
   "source": [
    "# 1. Write function which takes two parameters account no and name of the user.\n",
    "Check if the account number is valid. Account no is valid only if it is a 4 digit number less than 5000\n",
    "Check if the name is valid. Name is valid if all characters are alphabets and no numbers or special chars in the name\n",
    "If both name and 'acc no' are valid return True \n",
    "If acc no is invalid return a message string saying “Account no is invalid”\n",
    "if name is invalid return None\n"
   ]
  },
  {
   "cell_type": "code",
   "execution_count": 1,
   "id": "5a182a9c",
   "metadata": {},
   "outputs": [],
   "source": [
    "def acc(account):\n",
    "    if 999 < account < 5000:\n",
    "        return True\n",
    "    else:\n",
    "        return False\n",
    "def name_check(name_1):\n",
    "    for idk in name_1:\n",
    "        if idk.isalpha() == True:\n",
    "            return True\n",
    "        else:\n",
    "            None\n",
    "def acc_no(acc_no, name):\n",
    "    a = acc(acc_no)\n",
    "    b = name_check(name)\n",
    "    if a == b:\n",
    "        return True\n",
    "    elif b == False:\n",
    "        return None\n",
    "        \n",
    "    elif a == False:\n",
    "        return \"account no is invalid\"\n",
    "    "
   ]
  },
  {
   "cell_type": "code",
   "execution_count": 2,
   "id": "e421484b",
   "metadata": {},
   "outputs": [
    {
     "name": "stdout",
     "output_type": "stream",
     "text": [
      "enter a account number2346\n",
      "enter the nameasdfg\n"
     ]
    },
    {
     "data": {
      "text/plain": [
       "True"
      ]
     },
     "execution_count": 2,
     "metadata": {},
     "output_type": "execute_result"
    }
   ],
   "source": [
    "accoun = int(input(\"enter a account number\"))\n",
    "name13 = input(\"enter the name\")\n",
    "acc_no(accoun, name13)"
   ]
  },
  {
   "cell_type": "code",
   "execution_count": null,
   "id": "410ec548",
   "metadata": {},
   "outputs": [],
   "source": []
  },
  {
   "cell_type": "markdown",
   "id": "11b526d4",
   "metadata": {},
   "source": [
    "# Q2 WA function to calculate total salary given that\n",
    "1. post      2. basic salary\n",
    "rules:\n",
    "post can be manager or employee\n",
    "total sal = basic + TA + HRA\n",
    "TA = 5000 for 'manager' \n",
    "and TA = 10,000 for 'employee'\n",
    "HRA = 20,000 for 'manager' and HRA = 12,000 for 'employee'\n",
    "\n",
    "return total salary based on two parameters"
   ]
  },
  {
   "cell_type": "code",
   "execution_count": 3,
   "id": "351156d2",
   "metadata": {},
   "outputs": [
    {
     "name": "stdout",
     "output_type": "stream",
     "text": [
      "enter the post: employee\n",
      "Enter the sal: 234\n",
      "Total salary for employee is 22234\n"
     ]
    }
   ],
   "source": [
    "def final_sal(sal_inp):\n",
    "    if var_1=='manager':\n",
    "        ta=5000\n",
    "        hra=20000\n",
    "        total_sal=sal_inp+ta+hra\n",
    "        print(\"Total salary for manager is\",total_sal)\n",
    "    elif var_1=='employee':\n",
    "        ta=10000\n",
    "        hra=12000\n",
    "        total_sal=sal_inp+ta+hra\n",
    "        print(\"Total salary for employee is\",total_sal)  \n",
    "    \n",
    "var_1=input(\"enter the post: \")   \n",
    "salary=int(input(\"Enter the sal: \"))\n",
    "final_sal(salary)"
   ]
  },
  {
   "cell_type": "markdown",
   "id": "4b24eb77",
   "metadata": {},
   "source": [
    "# 3.  WA function to rotate given string by 2 position to right\n",
    "\n",
    "Ex.\n",
    "s1=”IACSD”\n",
    "Rotate by 2 place to right\n",
    "“SDIAC"
   ]
  },
  {
   "cell_type": "code",
   "execution_count": 8,
   "id": "a9a48816",
   "metadata": {},
   "outputs": [
    {
     "name": "stdout",
     "output_type": "stream",
     "text": [
      "sdiac\n"
     ]
    }
   ],
   "source": [
    "def rotate_name(name):\n",
    "    nm=name[-2:]+name[:-2]\n",
    "    return nm\n",
    "print(rotate_name(\"iacsd\"))"
   ]
  },
  {
   "cell_type": "markdown",
   "id": "c2fc44ed",
   "metadata": {},
   "source": [
    "## 4.  Generalize above function to rotate string to right by n"
   ]
  },
  {
   "cell_type": "code",
   "execution_count": 4,
   "id": "7b2f408b",
   "metadata": {},
   "outputs": [
    {
     "name": "stdout",
     "output_type": "stream",
     "text": [
      "Enter the string: ewr\n",
      "value by which want to rotate 2\n",
      "wre\n"
     ]
    }
   ],
   "source": [
    "def rot_pos(s1):\n",
    "    n=int(input(\"value by which want to rotate \"))\n",
    "    s2=s1[-n:]+s1[:-n]\n",
    "    print(s2)\n",
    "    \n",
    "    \n",
    "s1=input(\"Enter the string: \")\n",
    "rot_pos(s1)"
   ]
  },
  {
   "cell_type": "markdown",
   "id": "2b37f7dd",
   "metadata": {},
   "source": [
    "# Q 5  Generalize above function to rotate string by n to right or left "
   ]
  },
  {
   "cell_type": "code",
   "execution_count": 5,
   "id": "29551376",
   "metadata": {},
   "outputs": [
    {
     "name": "stdout",
     "output_type": "stream",
     "text": [
      "Enter the string: wert\n",
      "direction of shifting left or rightright\n",
      "positions to rotate 3\n",
      "ertw\n"
     ]
    }
   ],
   "source": [
    "def rot_pos(s1):\n",
    "    if direct=='right':\n",
    "        n=int(input(\"positions to rotate \"))\n",
    "        s2=s1[-n:]+s1[:-n]\n",
    "        print(s2)\n",
    "        \n",
    "    elif direct=='left':\n",
    "        n=int(input(\"positions to rotate \"))\n",
    "        s2=s1[n:]+s1[:n]\n",
    "        print(s2)\n",
    "        \n",
    "    \n",
    "    \n",
    "s1=input(\"Enter the string: \")\n",
    "direct =input(\"direction of shifting left or right\")\n",
    "rot_pos(s1)"
   ]
  },
  {
   "cell_type": "markdown",
   "id": "fdb011cf",
   "metadata": {},
   "source": [
    "# Q6. WAP to count number of passengers in every airline. Here we are given dictionary of passanger id and airline id\n",
    "Ex\n",
    "input_dir ={'p1':'a1','p2':'a10','p89':'a1','p5':'a10'}\n",
    "output: {'a1':2, 'a10':2}"
   ]
  },
  {
   "cell_type": "code",
   "execution_count": 7,
   "id": "6295ee65",
   "metadata": {},
   "outputs": [
    {
     "name": "stdout",
     "output_type": "stream",
     "text": [
      "{'a1': 1, 'a10': 1}\n"
     ]
    }
   ],
   "source": [
    "def count_passengers(input_dir):\n",
    "    count_airid={}\n",
    "    for pass_id,air_id in input_dir.items():\n",
    "        if air_id in count_airid:\n",
    "            count_airid[air_id]+=1\n",
    "            \n",
    "        else:\n",
    "            count_airid[air_id]=0\n",
    "            \n",
    "    return count_airid\n",
    "            \n",
    "        \n",
    "        \n",
    "    \n",
    "input_dir ={'p1':'a1','p2':'a10','p89':'a1','p5':'a10'}\n",
    "a=count_passengers(input_dir)\n",
    "print(a)\n"
   ]
  },
  {
   "cell_type": "markdown",
   "id": "4e0162e1",
   "metadata": {},
   "source": [
    "# 7. given a list of strings.\n",
    "every string is in format \"Emp_name:Emp_id\"\n",
    "Emp_id is always a number\n",
    "if emp_id is amstrong number then rotate emp_name 1 place to the right --> and print the emp_name\n",
    "if emp_id is a prime no then print vowels from the employee name\n",
    "in other cases print consonents from the emp name\n",
    "Finally there should be print of every employee name as per given condition"
   ]
  },
  {
   "cell_type": "code",
   "execution_count": 31,
   "id": "49664d3f",
   "metadata": {},
   "outputs": [],
   "source": [
    "def prime_no_check(n):\n",
    "    if int(n) < 2:\n",
    "        return False\n",
    "    else:\n",
    "        for i in range(2, int(int(n) ** 0.5) + 1):\n",
    "            if int(n) % i == 0:\n",
    "                return False\n",
    "        return True\n",
    "\n",
    "def check_vowel(name,choice):\n",
    "    vowel= ''\n",
    "    cnsonts=''\n",
    "    l1 = ['a','e','i','o','u']\n",
    "    for ch in name.lower():\n",
    "        if ch in l1:\n",
    "            vowel += ch\n",
    "        else:\n",
    "            cnsonts += ch\n",
    "    if choice == 1:\n",
    "        return vowel\n",
    "    else:\n",
    "        return cnsonts\n",
    "def armstrong_check(num):\n",
    "    power = len(num)\n",
    "    total = 0\n",
    "    for digit in num:\n",
    "        total += int(digit) ** power\n",
    "    if total == int(num):\n",
    "        return True\n",
    "    else:\n",
    "        return False\n",
    "def rotate_name(name):\n",
    "    new_nm=name[-1:]+name[:-1]\n",
    "    return new_nm\n",
    "\n",
    "def print_ename(l3):\n",
    "    for idk in l3:\n",
    "        emp_name,emp_id=idk.split(':')\n",
    "        if armstrong_check(emp_id):\n",
    "            print(rotate_name(emp_name))\n",
    "        elif prime_no_check(emp_id):\n",
    "            print(check_vowel(emp_name,1))\n",
    "        else:\n",
    "            print(check_vowel(emp_name,0))\n",
    "            \n"
   ]
  },
  {
   "cell_type": "code",
   "execution_count": 33,
   "id": "8f391a56",
   "metadata": {},
   "outputs": [
    {
     "name": "stdout",
     "output_type": "stream",
     "text": [
      "hhars\n",
      "aa\n",
      "rhl\n"
     ]
    }
   ],
   "source": [
    "print_ename(['harsh:153','sagar:23','rahul:33'])"
   ]
  },
  {
   "cell_type": "markdown",
   "id": "df72b04f",
   "metadata": {},
   "source": [
    "# 8. Write a function which takes all details of a person as input in sequence and prints details as follows\n",
    "(Hint: Think which type of parameter to be used for every option)\n",
    "a. Take name and Print it in Camel Case\n",
    "b. Take 10 digit Mobile No and print it appending +91\n",
    "c. Take location as optional value. If not given then print India\n",
    "d. Take Qualifications. Qualifications can be 1 or 2 or many.\n",
    "Print all the passed qualifications one by one. Default qualification is \"Human\""
   ]
  },
  {
   "cell_type": "code",
   "execution_count": 3,
   "id": "0563daf0",
   "metadata": {},
   "outputs": [
    {
     "name": "stdout",
     "output_type": "stream",
     "text": [
      "RAHUL\n",
      "+914455829663\n",
      "Bsc\n",
      "('Hsc', 'Comp.sci')\n"
     ]
    }
   ],
   "source": [
    "def fnq8(name,contact,locn='India',*extra):\n",
    "    print(name.upper())\n",
    "    print('+91',contact,sep='')\n",
    "    print(locn)\n",
    "    if not extra:\n",
    "         extra = ('Human')\n",
    "    print(extra)\n",
    "         \n",
    "fnq8('Rahul','4455829663','Bsc','Hsc','Comp.sci')"
   ]
  },
  {
   "cell_type": "code",
   "execution_count": null,
   "id": "db070eee",
   "metadata": {},
   "outputs": [],
   "source": []
  },
  {
   "cell_type": "markdown",
   "id": "af6ff2ce",
   "metadata": {},
   "source": [
    "# 9. Create a function \"cloth_details\" with three arguments, color, shape and size. All three are optional and can be passed in any sequence by the user."
   ]
  },
  {
   "cell_type": "code",
   "execution_count": 11,
   "id": "3c80df5c",
   "metadata": {},
   "outputs": [
    {
     "data": {
      "text/plain": [
       "('blue', 'regular', 26)"
      ]
     },
     "execution_count": 11,
     "metadata": {},
     "output_type": "execute_result"
    }
   ],
   "source": [
    "def cloth_details(color='Red', shape='Slim_fit',size=32 ):\n",
    "    return (color,shape,size)\n",
    "\n",
    "cloth_details(\"blue\",'regular',26)"
   ]
  },
  {
   "cell_type": "markdown",
   "id": "9ada8beb",
   "metadata": {},
   "source": [
    "# 11. Write a function which finds average of given arguments. Minimum it takes two parameters and maximum it can take any number of arguments.\n",
    "Finally it should return average of all arguments passed\n",
    "\n",
    "Ex. avg(10,12)  return value 11\n",
    "avg(3,4,5)  return value 4\n",
    "avg(1,2,3,4,5,6,7,8,9,10) return value 5.5\n",
    "Extra case \n",
    "avg(1,2,avg(4,5,6)) return value 2.667 (roughly 8/3)"
   ]
  },
  {
   "cell_type": "code",
   "execution_count": 12,
   "id": "4254faf5",
   "metadata": {},
   "outputs": [
    {
     "data": {
      "text/plain": [
       "2.6666666666666665"
      ]
     },
     "execution_count": 12,
     "metadata": {},
     "output_type": "execute_result"
    }
   ],
   "source": [
    "def avg_fn(x, /, *args):\n",
    "    summ = x\n",
    "    for i in args:\n",
    "        summ += i\n",
    "    avg=summ/(len(args)+1)\n",
    "    return avg\n",
    "avg_fn(1,2,avg_fn(4,5,6))"
   ]
  },
  {
   "cell_type": "code",
   "execution_count": null,
   "id": "16041ab5",
   "metadata": {},
   "outputs": [],
   "source": []
  }
 ],
 "metadata": {
  "kernelspec": {
   "display_name": "Python 3 (ipykernel)",
   "language": "python",
   "name": "python3"
  },
  "language_info": {
   "codemirror_mode": {
    "name": "ipython",
    "version": 3
   },
   "file_extension": ".py",
   "mimetype": "text/x-python",
   "name": "python",
   "nbconvert_exporter": "python",
   "pygments_lexer": "ipython3",
   "version": "3.11.4"
  }
 },
 "nbformat": 4,
 "nbformat_minor": 5
}
