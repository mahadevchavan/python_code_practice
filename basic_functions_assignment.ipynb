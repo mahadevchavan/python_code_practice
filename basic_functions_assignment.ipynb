{
 "cells": [
  {
   "cell_type": "markdown",
   "id": "1fe3945a",
   "metadata": {},
   "source": [
    "# Q1 function to take a number ass parameter and  print True if given number is even else print False"
   ]
  },
  {
   "cell_type": "code",
   "execution_count": 1,
   "id": "0e8ea3c7",
   "metadata": {},
   "outputs": [
    {
     "data": {
      "text/plain": [
       "True"
      ]
     },
     "execution_count": 1,
     "metadata": {},
     "output_type": "execute_result"
    }
   ],
   "source": [
    "def even_odd(n):\n",
    "    'print even odd'\n",
    "    if(n%2==0):\n",
    "        return True\n",
    "    else:\n",
    "        return False\n",
    "        \n",
    "even_odd(10)"
   ]
  },
  {
   "cell_type": "markdown",
   "id": "19b06d24",
   "metadata": {},
   "source": [
    "# Q 2function to take list as parameter and print all numbers of given list which are divisible by 11"
   ]
  },
  {
   "cell_type": "code",
   "execution_count": 31,
   "id": "a46a11da",
   "metadata": {},
   "outputs": [
    {
     "name": "stdout",
     "output_type": "stream",
     "text": [
      "11\n",
      "22\n",
      "88\n"
     ]
    }
   ],
   "source": [
    "def num(list_1):\n",
    "    'number divisible by 11'\n",
    "    for e in list_1:\n",
    "        if(e%11==0):\n",
    "            print(e)\n",
    "            \n",
    "num([11,22,45,90,88])"
   ]
  },
  {
   "cell_type": "markdown",
   "id": "69a9d3db",
   "metadata": {},
   "source": [
    "# Q3 function to take string as parameter\n",
    "Check if string is palindrome are not\n",
    "If palindrome return 1\n",
    "if not palindrome return 0"
   ]
  },
  {
   "cell_type": "code",
   "execution_count": 8,
   "id": "69822751",
   "metadata": {},
   "outputs": [
    {
     "name": "stdout",
     "output_type": "stream",
     "text": [
      "enter the string: fvfs\n"
     ]
    },
    {
     "data": {
      "text/plain": [
       "0"
      ]
     },
     "execution_count": 8,
     "metadata": {},
     "output_type": "execute_result"
    }
   ],
   "source": [
    "def palindrome(n):\n",
    "    'string is palindrome or not'\n",
    "    if n[::]==n[::-1]:\n",
    "#         print(\"string is palindrome\")\n",
    "          return 1\n",
    "         \n",
    "    else:\n",
    "#         print(\"string is not palindrome\")\n",
    "          return 0\n",
    "n=input(\"enter the string: \")        \n",
    "palindrome(n)\n",
    "    "
   ]
  },
  {
   "cell_type": "markdown",
   "id": "05816a50",
   "metadata": {},
   "source": [
    "# Q4 function to check if number is prime or not. Return True if number is prime a"
   ]
  },
  {
   "cell_type": "code",
   "execution_count": 9,
   "id": "1d2ea94a",
   "metadata": {},
   "outputs": [
    {
     "data": {
      "text/plain": [
       "True"
      ]
     },
     "execution_count": 9,
     "metadata": {},
     "output_type": "execute_result"
    }
   ],
   "source": [
    "def prime_no(n):\n",
    "    if n < 2:\n",
    "        return False\n",
    "    else:\n",
    "        for i in range(2, int(n ** 0.5) + 1):\n",
    "            if n % i == 0:\n",
    "                return False\n",
    "        return True\n",
    "    \n",
    "prime_no(31)"
   ]
  },
  {
   "cell_type": "markdown",
   "id": "c97a1889",
   "metadata": {},
   "source": [
    "# Q 5function to take a string as parameter. Print its alternate characters starting from 2nd character"
   ]
  },
  {
   "cell_type": "code",
   "execution_count": 10,
   "id": "8cb5cd3e",
   "metadata": {},
   "outputs": [
    {
     "name": "stdout",
     "output_type": "stream",
     "text": [
      "enter the string: vfsno\n",
      "fn\n"
     ]
    }
   ],
   "source": [
    "def palindrome(s):\n",
    "    'print alternate character'\n",
    "    print(s[1::2])\n",
    "    \n",
    "s=input(\"enter the string: \")        \n",
    "palindrome(s)\n",
    "    "
   ]
  },
  {
   "cell_type": "markdown",
   "id": "968c2c16",
   "metadata": {},
   "source": [
    "# Q6 function to take dictionary as parameter. Print all keys of the dictionary"
   ]
  },
  {
   "cell_type": "code",
   "execution_count": 39,
   "id": "d0a75628",
   "metadata": {},
   "outputs": [
    {
     "name": "stdout",
     "output_type": "stream",
     "text": [
      "k1\n",
      "k2\n",
      "k3\n",
      "100\n",
      "['k1', 'k2', 'k3', 100]\n",
      "[45, 67, 89, 10]\n"
     ]
    }
   ],
   "source": [
    "def print_keys(d1):\n",
    "    'print keys of dictionary'\n",
    "    for key in d1:\n",
    "        print(key)\n",
    "    print(list(d1.keys()))\n",
    "    print(list(d1.values()))\n",
    "    \n",
    "d={\"k1\":45,\"k2\":67,\"k3\":89,100:10}\n",
    "print_keys(d)"
   ]
  },
  {
   "cell_type": "markdown",
   "id": "8f822dfa",
   "metadata": {},
   "source": [
    "# Q7 function to take a dictionary as parameter. Print value of key \"name\" if key \"rollno\" is having value 100."
   ]
  },
  {
   "cell_type": "code",
   "execution_count": 14,
   "id": "62828c0f",
   "metadata": {},
   "outputs": [],
   "source": [
    "def print_keys(d1):\n",
    "    '''print keys of dictionary'''\n",
    "    for key in d1:\n",
    "        if(d1.values==100):\n",
    "            print(d1.key)\n",
    "    \n",
    "d={\"sagar\":45,\"harsh\":67,\"viraj\":89,\"rahul\":100}\n",
    "print_keys(d)"
   ]
  },
  {
   "cell_type": "code",
   "execution_count": 12,
   "id": "4cd30f10",
   "metadata": {},
   "outputs": [
    {
     "name": "stdout",
     "output_type": "stream",
     "text": [
      "iacsd\n"
     ]
    }
   ],
   "source": [
    "def print_keys(d1):\n",
    "    'print keys of dictionary'\n",
    "    if d1[\"rollno\"]==100:\n",
    "        print(d1['name'])\n",
    "        \n",
    "d={'name':'iacsd','rollno':100}\n",
    "print_keys(d)"
   ]
  },
  {
   "cell_type": "markdown",
   "id": "9fc1dc93",
   "metadata": {},
   "source": [
    "# Q 8write a function to take dictionary as parameter \n",
    "print values of key 'price' if key item is milk"
   ]
  },
  {
   "cell_type": "code",
   "execution_count": 50,
   "id": "08fcd6ff",
   "metadata": {},
   "outputs": [
    {
     "name": "stdout",
     "output_type": "stream",
     "text": [
      "50\n"
     ]
    }
   ],
   "source": [
    "def print_keys(d1):\n",
    "    'print keys of dictionary'\n",
    "    if d1[\"product\"]=='milk':\n",
    "        print(d1['price'])\n",
    "        \n",
    "d={'product':'milk','price':50}\n",
    "print_keys(d)"
   ]
  },
  {
   "cell_type": "markdown",
   "id": "b2b7dfcd",
   "metadata": {},
   "source": [
    "# Q9 function to list of strings as parameter and print all strings which have character 's' 2 times"
   ]
  },
  {
   "cell_type": "code",
   "execution_count": 17,
   "id": "33d70d46",
   "metadata": {},
   "outputs": [
    {
     "name": "stdout",
     "output_type": "stream",
     "text": [
      "sangamesh\n",
      "sukesh\n",
      "sasha\n"
     ]
    }
   ],
   "source": [
    "def strings_list(list1):\n",
    "    'occurences of ss in list of string'\n",
    "    for e in list1:\n",
    "        if e.count('s')>=2:\n",
    "            print(e)\n",
    "l=[\"sangamesh\",\"sukesh\",\"sagar\",\"sasha\"]\n",
    "strings_list(l)"
   ]
  },
  {
   "cell_type": "markdown",
   "id": "ca482ca4",
   "metadata": {},
   "source": [
    "# Q10 WA function to take list of dictionaries. Print all dictionaries which contain key \"id\"."
   ]
  },
  {
   "cell_type": "code",
   "execution_count": 55,
   "id": "8df2c796",
   "metadata": {},
   "outputs": [
    {
     "name": "stdout",
     "output_type": "stream",
     "text": [
      "{'id': 345, 'name': 'abcd', 'college': 'iacsd'}\n",
      "{'name': 'abcd', 'college': 'pune', 'id': 89}\n"
     ]
    }
   ],
   "source": [
    "def list_dict(list1):\n",
    "    ' Print all dictionaries which contain key \"id\"'\n",
    "    for d in list1:\n",
    "        if 'id' in d.keys():\n",
    "            print(d)\n",
    "    \n",
    "    \n",
    "    \n",
    "l=[{'bookid':123,'bookname':\"pyhton\"},\n",
    "   {'id':345,'name':'abcd','college':'iacsd'},\n",
    "   {'movieid':345,'moviename':'xyz'},\n",
    "   {'name':'abcd','college':'pune','id':89}]\n",
    "list_dict(l)"
   ]
  },
  {
   "cell_type": "markdown",
   "id": "fb4f0aea",
   "metadata": {},
   "source": [
    "1. Write function which takes two parameters account no and name of the user.\n",
    "Check if the account number is valid. Account no is valid only if it is a 4 digit number less than 5000\n",
    "Check if the name is valid. Name is valid if all characters are alphabets and no numbers or special chars in the name\n",
    "If both name and 'acc no' are valid return True \n",
    "If acc no is invalid return a message string saying “Account no is invalid”\n",
    "if name is invalid return None\n"
   ]
  },
  {
   "cell_type": "code",
   "execution_count": null,
   "id": "b53af2f6",
   "metadata": {},
   "outputs": [],
   "source": []
  }
 ],
 "metadata": {
  "kernelspec": {
   "display_name": "Python 3 (ipykernel)",
   "language": "python",
   "name": "python3"
  },
  "language_info": {
   "codemirror_mode": {
    "name": "ipython",
    "version": 3
   },
   "file_extension": ".py",
   "mimetype": "text/x-python",
   "name": "python",
   "nbconvert_exporter": "python",
   "pygments_lexer": "ipython3",
   "version": "3.11.4"
  }
 },
 "nbformat": 4,
 "nbformat_minor": 5
}
