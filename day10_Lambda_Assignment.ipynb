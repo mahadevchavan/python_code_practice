{
 "cells": [
  {
   "cell_type": "markdown",
   "id": "2bea2472",
   "metadata": {},
   "source": [
    "Q Sort all the numbers in a list in descending order using lambda function"
   ]
  },
  {
   "cell_type": "code",
   "execution_count": 66,
   "id": "ea52bb79",
   "metadata": {},
   "outputs": [
    {
     "name": "stdout",
     "output_type": "stream",
     "text": [
      "[1, 3, 4, 5, 5, 6, 7, 8, 9, 45, 855]\n"
     ]
    }
   ],
   "source": [
    "ls1 = [3,8,6,7,9,1,45,4,5,855,5]\n",
    "ls1.sort(reverse =True, key=lambda n:n)\n",
    "print(ls1)"
   ]
  },
  {
   "cell_type": "markdown",
   "id": "acb2efbb",
   "metadata": {},
   "source": [
    "Q Sort all the characters of given string using lambda function"
   ]
  },
  {
   "cell_type": "code",
   "execution_count": 13,
   "id": "0e5f10af",
   "metadata": {},
   "outputs": [
    {
     "name": "stdout",
     "output_type": "stream",
     "text": [
      "['a', 'f', 'f', 'i', 'j', 'j', 'k', 'l', 'n', 'n', 's', 's', 'v', 'v']\n"
     ]
    }
   ],
   "source": [
    "string = \"ivjasnfkjvnfsl\"\n",
    "sort_str = sorted(string,key=lambda s:s)\n",
    "print(sort_str)"
   ]
  },
  {
   "cell_type": "markdown",
   "id": "98eae4d4",
   "metadata": {},
   "source": [
    "Q Given list of strings, sort all the strings by last character of that string. . Use lambda function and normal function both."
   ]
  },
  {
   "cell_type": "code",
   "execution_count": 14,
   "id": "40f853c2",
   "metadata": {},
   "outputs": [
    {
     "name": "stdout",
     "output_type": "stream",
     "text": [
      "['rutuja', 'harsh', 'adarsh', 'rajesh', 'mayuri', 'shivani', 'vishal', 'mahadev']\n"
     ]
    }
   ],
   "source": [
    "ls_s = ['harsh','adarsh','rutuja','mayuri','shivani','vishal','rajesh','mahadev']\n",
    "ls_s.sort(reverse=False,key=lambda s:s[-1])\n",
    "print(ls_s)\n",
    "\n"
   ]
  },
  {
   "cell_type": "markdown",
   "id": "df5987d5",
   "metadata": {},
   "source": [
    "Q Given list of employees. This list may contain repetitions. Find all unique employee names and print them as per order of second character in that name. Use lambda function and normal function both."
   ]
  },
  {
   "cell_type": "code",
   "execution_count": 36,
   "id": "8a7b1886",
   "metadata": {},
   "outputs": [
    {
     "data": {
      "text/plain": [
       "{'adarsh', 'harsh', 'mahadev', 'rutuja', 'vishal'}"
      ]
     },
     "execution_count": 36,
     "metadata": {},
     "output_type": "execute_result"
    }
   ],
   "source": [
    "lis_emp = ['harsh','adarsh','rutuja','rutuja','vishal','mahadev','harsh','adarsh']\n",
    "a = sorted(lis_emp, key=lambda b:b[1])\n",
    "set(a)  # why does print(set(a)) and just set(a) gives different outputs)"
   ]
  },
  {
   "cell_type": "markdown",
   "id": "5636ee93",
   "metadata": {},
   "source": [
    "Q. Take Employee id and Employee name of 5 employees from user. Store it in dictionary. Print all employees in increasing order of employee Id . Also print all employees in alphabetical order by name."
   ]
  },
  {
   "cell_type": "code",
   "execution_count": 65,
   "id": "27efe141",
   "metadata": {},
   "outputs": [
    {
     "name": "stdout",
     "output_type": "stream",
     "text": [
      "enter a id1\n",
      "enter a namename\n",
      "enter a id4\n",
      "enter a nameyash\n",
      "enter a id2\n",
      "enter a nameharshal\n",
      "enter a id7\n",
      "enter a nameruturaj\n",
      "enter a id5\n",
      "enter a namevishal\n",
      "{'1': 'name', '4': 'yash', '2': 'harshal', '7': 'ruturaj', '5': 'vishal'}\n"
     ]
    }
   ],
   "source": [
    "emp_dict = {}\n",
    "for i in range(5):\n",
    "    a = input(\"enter a id\")\n",
    "    b = input('enter a name')\n",
    "    emp_dict[a] = b\n",
    "\n",
    "# emp_dict = {'6': 'rahul', '3': 'surya', '1': 'sagar', '5': 'fvnals', '8': 'lmvkv'}\n",
    "\n"
   ]
  },
  {
   "cell_type": "code",
   "execution_count": null,
   "id": "cd0ff192",
   "metadata": {},
   "outputs": [],
   "source": []
  },
  {
   "cell_type": "code",
   "execution_count": null,
   "id": "7b0f5408",
   "metadata": {},
   "outputs": [],
   "source": []
  },
  {
   "cell_type": "code",
   "execution_count": null,
   "id": "56214843",
   "metadata": {},
   "outputs": [],
   "source": []
  },
  {
   "cell_type": "code",
   "execution_count": null,
   "id": "b7fb697a",
   "metadata": {},
   "outputs": [],
   "source": []
  },
  {
   "cell_type": "markdown",
   "id": "8fbeb609",
   "metadata": {},
   "source": [
    "Q. Take comma separated numbers as input from the user. Split it in list of strings. Now convert every string in this list to float using map function"
   ]
  },
  {
   "cell_type": "code",
   "execution_count": 54,
   "id": "3b36b655",
   "metadata": {},
   "outputs": [
    {
     "name": "stdout",
     "output_type": "stream",
     "text": [
      "1,2,6,4,8,5,7\n",
      "[1.0, 2.0, 6.0, 4.0, 8.0, 5.0, 7.0]\n"
     ]
    }
   ],
   "source": [
    "a = list(input().split(\",\"))\n",
    "a = list(map(lambda a:float(a),a))\n",
    "print(a)"
   ]
  },
  {
   "cell_type": "markdown",
   "id": "07ca6833",
   "metadata": {},
   "source": [
    "Q Given list of floating point numbers. Convert every number into string and then join all the numbers such that they are separated by pipe(|)\n"
   ]
  },
  {
   "cell_type": "code",
   "execution_count": 49,
   "id": "7fe55783",
   "metadata": {},
   "outputs": [
    {
     "name": "stdout",
     "output_type": "stream",
     "text": [
      "1.0|2.2|3.4|5.8|8.1|9.0|5.6|7.7|8.5|5.2\n",
      "<class 'str'>\n"
     ]
    }
   ],
   "source": [
    "ls_f = [1.0,2.2,3.4,5.8,8.1,9.0,5.6,7.7,8.5,5.2]\n",
    "a = \"|\".join(list(map(lambda x: str(x), ls_f)))\n",
    "print(a)\n",
    "print(type(a[0])) "
   ]
  },
  {
   "cell_type": "markdown",
   "id": "efd0a1fc",
   "metadata": {},
   "source": [
    "Q Given list of integers. Use map function to calculate square of all and store in list. Then print sum of all square values."
   ]
  },
  {
   "cell_type": "code",
   "execution_count": 43,
   "id": "034f3c16",
   "metadata": {},
   "outputs": [
    {
     "name": "stdout",
     "output_type": "stream",
     "text": [
      "[1, 4, 9, 25, 64, 81, 25, 49, 64, 25]\n"
     ]
    }
   ],
   "source": [
    "ls_i = [1,2,3,5,8,9,5,7,8,5]\n",
    "a = list(map(lambda x:x**2, ls_i)) \n",
    "# a = map(lambda x:x**2, ls_i)\n",
    "print(a) #why does above hashed line gives output like <map object at 0x7feb30402f50>"
   ]
  }
 ],
 "metadata": {
  "kernelspec": {
   "display_name": "Python 3 (ipykernel)",
   "language": "python",
   "name": "python3"
  },
  "language_info": {
   "codemirror_mode": {
    "name": "ipython",
    "version": 3
   },
   "file_extension": ".py",
   "mimetype": "text/x-python",
   "name": "python",
   "nbconvert_exporter": "python",
   "pygments_lexer": "ipython3",
   "version": "3.11.4"
  }
 },
 "nbformat": 4,
 "nbformat_minor": 5
}
