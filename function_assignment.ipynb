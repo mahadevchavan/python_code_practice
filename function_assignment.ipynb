{
 "cells": [
  {
   "cell_type": "markdown",
   "id": "36d6ea7e",
   "metadata": {},
   "source": [
    "1. Write function which takes two parameters account no and name of the user.\n",
    "Check if the account number is valid. Account no is valid only if it is a 4 digit number less than 5000\n",
    "Check if the name is valid. Name is valid if all characters are alphabets and no numbers or special chars in the name\n",
    "If both name and 'acc no' are valid return True \n",
    "If acc no is invalid return a message string saying “Account no is invalid”\n",
    "if name is invalid return None"
   ]
  },
  {
   "cell_type": "code",
   "execution_count": 27,
   "id": "af4ae3c2",
   "metadata": {},
   "outputs": [
    {
     "data": {
      "text/plain": [
       "True"
      ]
     },
     "execution_count": 27,
     "metadata": {},
     "output_type": "execute_result"
    }
   ],
   "source": [
    "def acc_details(accno,name):\n",
    "    if 999<accno<5000:\n",
    "        if name.isalpha()==True:\n",
    "            return True\n",
    "        else:\n",
    "            return None\n",
    "    else:\n",
    "        msg=\"Account no is invalid\"\n",
    "        return msg\n",
    "acc_details(4444,'Vinay')"
   ]
  },
  {
   "cell_type": "markdown",
   "id": "aae75d34",
   "metadata": {},
   "source": [
    "2. WA function to calculate total salary given that\n",
    "1. post      2. basic salary\n",
    "rules:\n",
    "post can be manager or employee\n",
    "total sal = basic + TA + HRA\n",
    "TA = 5000 for 'manager' \n",
    "and TA = 10,000 for 'employee'\n",
    "HRA = 20,000 for 'manager' and HRA = 12,000 for 'employee'\n",
    "\n",
    "return total salary based on two parameters"
   ]
  },
  {
   "cell_type": "code",
   "execution_count": 29,
   "id": "f9ac02dc",
   "metadata": {},
   "outputs": [
    {
     "name": "stdout",
     "output_type": "stream",
     "text": [
      "24000\n"
     ]
    }
   ],
   "source": [
    "def basesal(post,base_sal):\n",
    "    if post.lower()=='manager':\n",
    "        TA=5000\n",
    "        HRA=20000\n",
    "    else:\n",
    "        TA=10000\n",
    "        HRA=12000\n",
    "    total_sal=base_sal+TA+HRA\n",
    "    return total_sal\n",
    "\n",
    "print(basesal('employ',2000))"
   ]
  },
  {
   "cell_type": "markdown",
   "id": "d1ec0f18",
   "metadata": {},
   "source": [
    "3.  WA function to rotate given string by 2 position to right\n",
    "\n",
    "Ex.\n",
    "s1=”IACSD”\n",
    "Rotate by 2 place to right\n",
    "“SDIAC”"
   ]
  },
  {
   "cell_type": "code",
   "execution_count": 6,
   "id": "4fefbf49",
   "metadata": {},
   "outputs": [
    {
     "name": "stdout",
     "output_type": "stream",
     "text": [
      "sdiac\n"
     ]
    }
   ],
   "source": [
    "def rotate_name(name):\n",
    "    nm=name[-2:]+name[:-2]\n",
    "    return nm\n",
    "print(rotate_name(\"iacsd\"))"
   ]
  },
  {
   "cell_type": "markdown",
   "id": "a41e888a",
   "metadata": {},
   "source": [
    "4.  Generalize above function to rotate string to right by n"
   ]
  },
  {
   "cell_type": "code",
   "execution_count": 2,
   "id": "59f3c01b",
   "metadata": {},
   "outputs": [
    {
     "name": "stdout",
     "output_type": "stream",
     "text": [
      "acsdi\n"
     ]
    }
   ],
   "source": [
    "def rotate_name(name,num):\n",
    "    nm=name[-num:]+name[:-num]\n",
    "    return nm\n",
    "print(rotate_name(\"iacsd\",4))"
   ]
  },
  {
   "cell_type": "markdown",
   "id": "664d16a0",
   "metadata": {},
   "source": [
    "5.  Generalize above function to rotate string by n to right or left"
   ]
  },
  {
   "cell_type": "code",
   "execution_count": 5,
   "id": "cc4565de",
   "metadata": {},
   "outputs": [
    {
     "name": "stdout",
     "output_type": "stream",
     "text": [
      "diacs\n"
     ]
    }
   ],
   "source": [
    "def rotate_name(name,num,side):\n",
    "    if side.lower()=='right':\n",
    "        nm=name[-num:]+name[:-num]\n",
    "    else:\n",
    "        nm=name[num:]+name[:num]\n",
    "    return nm\n",
    "print(rotate_name(\"iacsd\",4,'left'))"
   ]
  },
  {
   "cell_type": "markdown",
   "id": "84692256",
   "metadata": {},
   "source": [
    "6. WAP to count number of passengers in every airline. Here we are given dictionary of passanger id and airline id\n",
    "Ex\n",
    "input_dir ={'p1':'a1','p2':'a10','p89':'a1','p5':'a10'}\n",
    "output: {'a1':2, 'a10':2}"
   ]
  },
  {
   "cell_type": "code",
   "execution_count": 6,
   "id": "fb695a5e",
   "metadata": {},
   "outputs": [],
   "source": [
    "def pass_count(d1):\n",
    "    d2=dict()\n",
    "    for val in d1.values():\n",
    "        count=0\n",
    "        for k1 in d1.keys():\n",
    "            if d1[k1]==val:\n",
    "                count+=1\n",
    "        d2[val]=count\n",
    "    return d2"
   ]
  },
  {
   "cell_type": "code",
   "execution_count": 7,
   "id": "0991da97",
   "metadata": {},
   "outputs": [
    {
     "name": "stdout",
     "output_type": "stream",
     "text": [
      "{'a1': 2, 'a10': 2}\n"
     ]
    }
   ],
   "source": [
    "d1={'p1':'a1','p2':'a10','p89':'a1','p5':'a10'}\n",
    "print(pass_count(d1))"
   ]
  },
  {
   "cell_type": "markdown",
   "id": "b2c99501",
   "metadata": {},
   "source": [
    "7. given a list of strings.\n",
    "every string is in format \"Emp_name:Emp_id\"\n",
    "Emp_id is always a number\n",
    "if emp_id is amstrong number then rotate emp_name 1 place to the right --> and print the emp_name\n",
    "if emp_id is a prime no then print vowels from the employee name\n",
    "in other cases print consonents from the emp name\n",
    "Finally there should be print of every employee name as per given condition"
   ]
  },
  {
   "cell_type": "code",
   "execution_count": 31,
   "id": "24095b3c",
   "metadata": {},
   "outputs": [],
   "source": [
    "def is_armstrong(num):\n",
    "    po=len(num)\n",
    "    sum=0\n",
    "    for n in num:\n",
    "        sum+=int(n)**po\n",
    "    if sum==int(num):\n",
    "        return True\n",
    "    else:\n",
    "        return False\n",
    "\n",
    "def rotate_name(name):\n",
    "    nm=name[-1:]+name[:-1]\n",
    "    return nm\n",
    "\n",
    "def is_prime(num):\n",
    "    count=0\n",
    "    num=int(num)\n",
    "    for i in range(2,int(num**0.5)):\n",
    "        if num%i==0:\n",
    "            count+=1\n",
    "    if count>0:\n",
    "        return False\n",
    "    else:\n",
    "        return True\n",
    "    \n",
    "def vowel_list(name,choice):\n",
    "    vowel=consonents=''\n",
    "    for ch in name.lower():\n",
    "        if ch==\"a\" or ch==\"e\" or ch==\"i\" or ch==\"o\" or ch==\"u\":\n",
    "            vowel+=ch\n",
    "        else:\n",
    "            consonents+=ch\n",
    "    if choice==1:\n",
    "        return vowel\n",
    "    else:\n",
    "        return consonents\n",
    "    \n",
    "# def consonents_list(name):\n",
    "#     consonents=\"\"\n",
    "#     for ch in name.lower():\n",
    "#         if ch==\"a\" or ch==\"e\" or ch==\"i\" or ch==\"o\" or ch==\"u\":\n",
    "#             pass\n",
    "#         else:\n",
    "#             consonents+=ch\n",
    "\n",
    "def check(l1):\n",
    "    for ele in l1:\n",
    "        emp_name,emp_id=ele.split(':')\n",
    "        if is_armstrong(emp_id):\n",
    "            print(rotate_name(emp_name))\n",
    "        elif is_prime(emp_id):\n",
    "            print(vowel_list(emp_name,1))\n",
    "        else:\n",
    "            print(vowel_list(emp_name,0))"
   ]
  },
  {
   "cell_type": "code",
   "execution_count": 32,
   "id": "f5d5ad0f",
   "metadata": {},
   "outputs": [
    {
     "name": "stdout",
     "output_type": "stream",
     "text": [
      "hpiyus\n",
      "au\n",
      "ysh\n"
     ]
    }
   ],
   "source": [
    "check(['piyush:153','ankush:11','yash:33'])"
   ]
  },
  {
   "cell_type": "markdown",
   "id": "b0437c64",
   "metadata": {},
   "source": [
    "8. Write a function which takes all details of a person as input in sequence and prints details as follows\n",
    "(Hint: Think which type of parameter to be used for every option)\n",
    "a. Take name and Print it in Camel Case\n",
    "b. Take 10 digit Mobile No and print it appending +91\n",
    "c. Take location as optional value. If not given then print India\n",
    "d. Take Qualifications. Qualifications can be 1 or 2 or many.\n",
    "Print all the passed qualifications one by one. Default qualification is \"Human\""
   ]
  },
  {
   "cell_type": "code",
   "execution_count": 44,
   "id": "c01f7a28",
   "metadata": {},
   "outputs": [
    {
     "name": "stdout",
     "output_type": "stream",
     "text": [
      "KARAN\n",
      "+917987330603\n",
      "USA\n",
      "('Something', 'Something else')\n"
     ]
    }
   ],
   "source": [
    "def fnq8(arg1,arg2,arg3='India',*arg4):\n",
    "    print(arg1.upper())\n",
    "    print('+91',arg2,sep='')\n",
    "    print(arg3)\n",
    "    \n",
    "    if not arg4:\n",
    "        arg4 = ('Human')\n",
    "    print(arg4)\n",
    "         \n",
    "fnq8('Karan','7987330603','USA','Something','Something else')\n"
   ]
  },
  {
   "cell_type": "markdown",
   "id": "738eba31",
   "metadata": {},
   "source": [
    "9. Create a function \"cloth_details\" with three arguments, color, shape and size. All three are optional and can be passed in any sequence by the user."
   ]
  },
  {
   "cell_type": "code",
   "execution_count": 48,
   "id": "000b170c",
   "metadata": {},
   "outputs": [
    {
     "name": "stdout",
     "output_type": "stream",
     "text": [
      "blue\n",
      "regular\n",
      "32\n"
     ]
    }
   ],
   "source": [
    "def cloth_details(color='Black', shape='Slim Fit',size=29 ):\n",
    "    print(color)\n",
    "    print(shape)\n",
    "    print(size)\n",
    "\n",
    "cloth_details(\"blue\",'regular',32)"
   ]
  },
  {
   "cell_type": "code",
   "execution_count": 47,
   "id": "62695def",
   "metadata": {},
   "outputs": [
    {
     "name": "stdout",
     "output_type": "stream",
     "text": [
      "Black\n",
      "Slim Fit\n",
      "29\n"
     ]
    }
   ],
   "source": [
    "cloth_details()"
   ]
  },
  {
   "cell_type": "markdown",
   "id": "b02951c4",
   "metadata": {},
   "source": [
    "10. Create a calculator.py file \n",
    "Create add(), subtract(), multiply(), divide(), power(), log() functions\n",
    "Create a menu driven program to take values and operation as input from user and print result using these functions\n",
    "\n",
    "Take ONLY integer inputs from user. If its not an integer then give Error message -> \"WRONG Input: Please enter ONLY integer value\"\n",
    "Your program should not give \"ValueError\" while using int() function for any input from below, It should display YOUR error message\n",
    "Enter a number : 10\n",
    "Enter a number : 10.9\n",
    "Enter a number : ABC\n",
    "(Hint: Think about methods from string data type to check input as integer)"
   ]
  },
  {
   "cell_type": "code",
   "execution_count": 43,
   "id": "db03f52c",
   "metadata": {},
   "outputs": [
    {
     "name": "stdout",
     "output_type": "stream",
     "text": [
      "Enter \n",
      "    1 for addition\n",
      "    2 for substraction\n",
      "    3 for multiplication\n",
      "    4 for division\n",
      "    5 for power\n",
      "    6 for log\n",
      "    7 for exit\n",
      "    Enter your choice: 1\n",
      "Enter first number: 34\n",
      "Enter second number: 54\n",
      "88\n",
      "Enter \n",
      "    1 for addition\n",
      "    2 for substraction\n",
      "    3 for multiplication\n",
      "    4 for division\n",
      "    5 for power\n",
      "    6 for log\n",
      "    7 for exit\n",
      "    Enter your choice: 7\n",
      "Enter first number: 34\n",
      "Enter second number: 34\n",
      "Exiting Program\n"
     ]
    }
   ],
   "source": [
    "import math\n",
    "def check_int(num):\n",
    "    if num.isdigit():\n",
    "        num=int(num)\n",
    "        return num\n",
    "    else:\n",
    "        print(\"WRONG Input: Please enter ONLY integer value\")\n",
    "    \n",
    "def add(num1,num2):\n",
    "    return num1+num2\n",
    "\n",
    "def sub(num1,num2):\n",
    "    return abs(num1-num2)\n",
    "\n",
    "def mul(num1,num2):\n",
    "    return num1*num2\n",
    "\n",
    "def div(num1,num2):\n",
    "    return num1/num2\n",
    "\n",
    "def power(num1,num2):\n",
    "    return num1**num2\n",
    "\n",
    "def log(num1,num2):\n",
    "    return math.log(num1,num2)\n",
    "\n",
    "while True:\n",
    "    choice=int(input(\"\"\"Enter \n",
    "    1 for addition\n",
    "    2 for substraction\n",
    "    3 for multiplication\n",
    "    4 for division\n",
    "    5 for power\n",
    "    6 for log\n",
    "    7 for exit\n",
    "    Enter your choice: \"\"\"))\n",
    "    while True:\n",
    "        num1=input(\"Enter first number: \")\n",
    "        if isinstance(check_int(num1),int)==True:\n",
    "            num1=int(num1)\n",
    "            break\n",
    "        else:\n",
    "            continue\n",
    "    while True:\n",
    "        num2=input(\"Enter second number: \")\n",
    "        if isinstance(check_int(num2),int)==True:\n",
    "            num2=int(num2)\n",
    "            break\n",
    "        else:\n",
    "            continue\n",
    "    match choice:\n",
    "        case 1:\n",
    "            print(add(num1,num2))\n",
    "        case 2:\n",
    "            print(sub(num1,num2))\n",
    "        case 3:\n",
    "            print(mul(num1,num2))\n",
    "        case 4:\n",
    "            print(div(num1,num2))\n",
    "        case 5:\n",
    "            print(power(num1,num2))\n",
    "        case 6:\n",
    "            print(log(num1,num2))\n",
    "        case 7:\n",
    "            print(\"Exiting Program\")\n",
    "            break\n",
    "        case _:\n",
    "            print(\"Invalid input, enter correct option.\")\n"
   ]
  },
  {
   "cell_type": "markdown",
   "id": "83cb3b8e",
   "metadata": {},
   "source": [
    "11. Write a function which finds average of given arguments. Minimum it takes two parameters and maximum it can take any number of arguments.\n",
    "Finally it should return average of all arguments passed\n",
    "\n",
    "Ex. avg(10,12)  return value 11\n",
    "avg(3,4,5)  return value 4\n",
    "avg(1,2,3,4,5,6,7,8,9,10) return value 5.5\n",
    "Extra case \n",
    "avg(1,2,avg(4,5,6)) return value 2.667 (roughly 8/3)"
   ]
  },
  {
   "cell_type": "code",
   "execution_count": 51,
   "id": "5b619479",
   "metadata": {},
   "outputs": [
    {
     "data": {
      "text/plain": [
       "2.667"
      ]
     },
     "execution_count": 51,
     "metadata": {},
     "output_type": "execute_result"
    }
   ],
   "source": [
    "def avg_fn(x, /, *args):\n",
    "    summ = x\n",
    "    for i in args:\n",
    "        summ += i\n",
    "    avg=summ/(len(args)+1)\n",
    "    return round(avg,3)\n",
    "avg_fn(1,2,avg_fn(4,5,6))"
   ]
  },
  {
   "cell_type": "code",
   "execution_count": null,
   "id": "dc4f47a2",
   "metadata": {},
   "outputs": [],
   "source": []
  }
 ],
 "metadata": {
  "kernelspec": {
   "display_name": "Python 3 (ipykernel)",
   "language": "python",
   "name": "python3"
  },
  "language_info": {
   "codemirror_mode": {
    "name": "ipython",
    "version": 3
   },
   "file_extension": ".py",
   "mimetype": "text/x-python",
   "name": "python",
   "nbconvert_exporter": "python",
   "pygments_lexer": "ipython3",
   "version": "3.10.9"
  }
 },
 "nbformat": 4,
 "nbformat_minor": 5
}
